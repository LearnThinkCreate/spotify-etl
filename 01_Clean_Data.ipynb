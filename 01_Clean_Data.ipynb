{
 "cells": [
  {
   "cell_type": "markdown",
   "metadata": {},
   "source": [
    "# Clean History\n",
    "\n",
    "> Normalize Data"
   ]
  },
  {
   "cell_type": "code",
   "execution_count": null,
   "metadata": {},
   "outputs": [],
   "source": [
    "import pickle\n",
    "import json\n",
    "import re\n",
    "import pandas as pd\n",
    "\n",
    "from pathlib import Path\n",
    "from spotify_etl.core import *"
   ]
  },
  {
   "cell_type": "code",
   "execution_count": null,
   "metadata": {},
   "outputs": [],
   "source": [
    "# | hide\n",
    "pd.set_option(\"display.max_rows\", 500)\n",
    "pd.set_option(\"display.max_columns\", 500)\n",
    "pd.set_option(\"display.width\", 1000)"
   ]
  },
  {
   "cell_type": "markdown",
   "metadata": {},
   "source": [
    "## Get Data"
   ]
  },
  {
   "cell_type": "code",
   "execution_count": null,
   "metadata": {},
   "outputs": [],
   "source": [
    "streaming_history = extract_streaming_history(Path(\"streaming_history\"))\n",
    "clean_history = clean_streaming_history(streaming_history, 0.7)"
   ]
  },
  {
   "cell_type": "code",
   "execution_count": null,
   "metadata": {},
   "outputs": [],
   "source": [
    "# track_metadata = get_pickle_data(Path(\"data/track_metadata.pkl\"))\n",
    "# artist_metadata = get_pickle_data(Path(\"data/artist_metadata.pkl\"))\n",
    "# album_metadata = get_pickle_data(Path(\"data/album_metadata.pkl\"))\n",
    "# audio_features = get_pickle_data(Path(\"data/audio_features.pkl\"))\n",
    "# raw_track_metadata = get_pickle_data(Path(\"data/raw_track_metadata.pkl\"))\n",
    "# raw_artist_metadata = get_pickle_data(Path(\"data/raw_artist_metadata.pkl\"))"
   ]
  }
 ],
 "metadata": {
  "kernelspec": {
   "display_name": "spotify",
   "language": "python",
   "name": "python3"
  }
 },
 "nbformat": 4,
 "nbformat_minor": 2
}
