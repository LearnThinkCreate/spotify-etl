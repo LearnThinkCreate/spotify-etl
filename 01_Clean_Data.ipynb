{
 "cells": [
  {
   "cell_type": "markdown",
   "metadata": {},
   "source": [
    "# Clean History\n",
    "\n",
    "> Normalize Data"
   ]
  },
  {
   "cell_type": "code",
   "execution_count": null,
   "metadata": {},
   "outputs": [],
   "source": [
    "# | default_exp clean_data"
   ]
  },
  {
   "cell_type": "code",
   "execution_count": null,
   "metadata": {},
   "outputs": [],
   "source": [
    "# | hide\n",
    "import pickle\n",
    "import json\n",
    "import re\n",
    "import pandas as pd\n",
    "\n",
    "from pathlib import Path\n",
    "from spotify_etl.core import *"
   ]
  },
  {
   "cell_type": "code",
   "execution_count": null,
   "metadata": {},
   "outputs": [],
   "source": [
    "# | hide\n",
    "pd.set_option(\"display.max_rows\", 500)\n",
    "pd.set_option(\"display.max_columns\", 500)\n",
    "pd.set_option(\"display.width\", 1000)"
   ]
  },
  {
   "cell_type": "code",
   "execution_count": null,
   "metadata": {},
   "outputs": [],
   "source": [
    "streaming_history = extract_streaming_history(Path(\"streaming_history\"))\n",
    "clean_history = clean_streaming_history(streaming_history, 0.7)"
   ]
  },
  {
   "cell_type": "code",
   "execution_count": null,
   "metadata": {},
   "outputs": [],
   "source": [
    "track_metadata = get_pickle_data(Path(\"data/track_metadata.pkl\"))\n",
    "artist_metadata = get_pickle_data(Path(\"data/artist_metadata.pkl\"))\n",
    "album_metadata = get_pickle_data(Path(\"data/album_metadata.pkl\"))\n",
    "audio_features = get_pickle_data(Path(\"data/audio_features.pkl\"))\n",
    "raw_track_metadata = get_pickle_data(Path(\"data/raw_track_metadata.pkl\"))\n",
    "raw_artist_metadata = get_pickle_data(Path(\"data/raw_artist_metadata.pkl\"))"
   ]
  },
  {
   "cell_type": "code",
   "execution_count": null,
   "metadata": {},
   "outputs": [],
   "source": [
    "def dict_to_df(dict, index_name=\"\"):\n",
    "    return pd.DataFrame(dict).T.reset_index(names=[index_name])"
   ]
  },
  {
   "cell_type": "code",
   "execution_count": null,
   "metadata": {},
   "outputs": [],
   "source": [
    "track_df = dict_to_df(track_metadata, \"track_id\")\n",
    "artist_df = dict_to_df(artist_metadata, \"artist_id\")\n",
    "album_df = dict_to_df(album_metadata, \"album_id\")\n",
    "raw_track_df = dict_to_df(raw_track_metadata, \"album_id\")"
   ]
  },
  {
   "cell_type": "markdown",
   "metadata": {},
   "source": [
    "## Clean Track Data"
   ]
  },
  {
   "cell_type": "markdown",
   "metadata": {},
   "source": [
    "removing artist data from the track df"
   ]
  },
  {
   "cell_type": "code",
   "execution_count": null,
   "metadata": {},
   "outputs": [],
   "source": [
    "# |code-fold: true\n",
    "track_df = (\n",
    "    track_df.drop(\n",
    "        [\n",
    "            \"artist\",\n",
    "            \"artist_genres\",\n",
    "            \"artist_main_genre\",\n",
    "            \"artist_secondary_genre\",\n",
    "            \"artist_image\",\n",
    "            \"main_artist_url\",\n",
    "            \"id\",\n",
    "            \"main_artist_uri\",\n",
    "        ],\n",
    "        axis=1,\n",
    "    )\n",
    "    .merge(\n",
    "        raw_track_df[[\"duration_ms\", \"explicit\", \"popularity\", \"id\"]].rename(\n",
    "            columns={\"id\": \"track_id\"}\n",
    "        ),\n",
    "        on=\"track_id\",\n",
    "        how=\"left\",\n",
    "    )\n",
    "    .rename(\n",
    "        columns={\n",
    "            \"name\": \"song\",\n",
    "            \"artist_id\": \"main_artist_id\",\n",
    "            \"popularity\": \"song_popularity\",\n",
    "        }\n",
    "    )\n",
    ")"
   ]
  },
  {
   "cell_type": "markdown",
   "metadata": {},
   "source": [
    "Writting function to clean titles (Album & Track)"
   ]
  },
  {
   "cell_type": "code",
   "execution_count": null,
   "metadata": {},
   "outputs": [],
   "source": [
    "# | export\n",
    "# |code-fold: true\n",
    "def clean_title(title: str):\n",
    "    # Remove everything in parentheses\n",
    "    title = re.sub(r\"\\(.*\\)\", \"\", title)\n",
    "    # Remove everything in brackets\n",
    "    title = re.sub(r\"\\[.*\\]\", \"\", title)\n",
    "    # Remove everything after a dash\n",
    "    title = re.sub(r\"^(.*?) -.*$\", r\"\\1\", title)\n",
    "    # Remove non-ASCII characters\n",
    "    title = re.sub(r\"[^\\x00-\\x7F]+\", \"\", title)\n",
    "    # Remove after colon\n",
    "    title = re.sub(r\"^(.*?) :.*$\", r\"\\1\", title)\n",
    "    # Strip leading and trailing whitespace\n",
    "    title = title.strip()\n",
    "\n",
    "    return title"
   ]
  },
  {
   "cell_type": "markdown",
   "metadata": {},
   "source": [
    "Converting Album Images to JSON Strings"
   ]
  },
  {
   "cell_type": "code",
   "execution_count": null,
   "metadata": {},
   "outputs": [],
   "source": [
    "# |code-fold: true\n",
    "def categorize_album_images(json_str):\n",
    "    try:\n",
    "        images = json.loads(json_str)\n",
    "        large = medium = small = {}\n",
    "        for img in images:\n",
    "            if img[\"height\"] == 640:\n",
    "                large = img\n",
    "            elif img[\"height\"] == 300:\n",
    "                medium = img\n",
    "            elif img[\"height\"] == 64:\n",
    "                small = img\n",
    "        return json.dumps(large), json.dumps(medium), json.dumps(small)\n",
    "    except json.JSONDecodeError:\n",
    "        return \"{}\", \"{}\", \"{}\""
   ]
  },
  {
   "cell_type": "code",
   "execution_count": null,
   "metadata": {},
   "outputs": [],
   "source": [
    "track_df[\"image_lg\"], track_df[\"image_md\"], track_df[\"image_sm\"] = zip(\n",
    "    *track_df.album_images.apply(categorize_album_images)\n",
    ")"
   ]
  },
  {
   "cell_type": "markdown",
   "metadata": {},
   "source": [
    "Cleaning Album Dates"
   ]
  },
  {
   "cell_type": "code",
   "execution_count": null,
   "metadata": {},
   "outputs": [],
   "source": [
    "# |code-fold: true\n",
    "def categorize_decade(year):\n",
    "    if year < 1950:\n",
    "        return \"Oldie\"\n",
    "    else:\n",
    "        return str(year)[2] + \"0s\""
   ]
  },
  {
   "cell_type": "code",
   "execution_count": null,
   "metadata": {},
   "outputs": [],
   "source": [
    "track_df[\"album_release_year\"] = track_df.apply(\n",
    "    lambda row: (\n",
    "        row[\"album_release_date\"][:4]\n",
    "        if row[\"album_release_date_precision\"] in [\"day\", \"month\", \"year\"]\n",
    "        else None\n",
    "    ),\n",
    "    axis=1,\n",
    ").astype(int)"
   ]
  },
  {
   "cell_type": "code",
   "execution_count": null,
   "metadata": {},
   "outputs": [],
   "source": [
    "track_df[\"album_decade\"] = (\n",
    "    track_df[\"album_release_year\"].astype(int).apply(categorize_decade)\n",
    ")"
   ]
  },
  {
   "cell_type": "markdown",
   "metadata": {},
   "source": [
    "## Clean Artist Data"
   ]
  },
  {
   "cell_type": "code",
   "execution_count": null,
   "metadata": {},
   "outputs": [],
   "source": [
    "artist_df[artist_df.columns[artist_df.columns != \"images\"]] = artist_df[\n",
    "    artist_df.columns[artist_df.columns != \"images\"]\n",
    "].convert_dtypes()"
   ]
  },
  {
   "cell_type": "markdown",
   "metadata": {},
   "source": [
    "Convert Artist Images"
   ]
  },
  {
   "cell_type": "code",
   "execution_count": null,
   "metadata": {},
   "outputs": [],
   "source": [
    "# |code-fold: true\n",
    "def categorrize_img_size(json_str):\n",
    "    try:\n",
    "        images = json.loads(json_str)\n",
    "        xl = lg = md = sm = {}\n",
    "        for img in images:\n",
    "            if img[\"height\"] > 800:\n",
    "                xl = img\n",
    "            elif img[\"height\"] > 525:\n",
    "                lg = img\n",
    "            elif img[\"height\"] > 180:\n",
    "                md = img\n",
    "            else:\n",
    "                sm = img\n",
    "        return json.dumps(xl), json.dumps(lg), json.dumps(md), json.dumps(sm)\n",
    "    except json.JSONDecodeError:\n",
    "        return \"{}\", \"{}\", \"{}\", \"{}\""
   ]
  },
  {
   "cell_type": "code",
   "execution_count": null,
   "metadata": {},
   "outputs": [],
   "source": [
    "(\n",
    "    artist_df[\"image_xl\"],\n",
    "    artist_df[\"image_lg\"],\n",
    "    artist_df[\"image_md\"],\n",
    "    artist_df[\"image_sm\"],\n",
    ") = zip(*artist_df.images.apply(categorrize_img_size))"
   ]
  },
  {
   "cell_type": "code",
   "execution_count": null,
   "metadata": {},
   "outputs": [],
   "source": [
    "# | hide\n",
    "# Fix Error where the main / secondary genres were truncated\n",
    "artist_df.drop([\"id\"], axis=1, inplace=True)\n",
    "artist_df[[\"main_genre\", \"secondary_genre\"]] = artist_df[\n",
    "    [\"main_genre\", \"secondary_genre\"]\n",
    "].fillna(\"\")\n",
    "\n",
    "artist_df[\"main_genre\"] = artist_df.apply(\n",
    "    lambda x: (\n",
    "        x[\"genres\"].split(\";;\")[-1] if len(x[\"main_genre\"]\n",
    "                                           ) < 2 else x[\"main_genre\"]\n",
    "    ),\n",
    "    axis=1,\n",
    ")\n",
    "\n",
    "artist_df[\"secondary_genre\"] = artist_df.apply(\n",
    "    lambda x: (\n",
    "        x[\"genres\"].split(\";;\")[0]\n",
    "        if len(x[\"secondary_genre\"]) < 2\n",
    "        else x[\"secondary_genre\"]\n",
    "    ),\n",
    "    axis=1,\n",
    ")\n",
    "\n",
    "artist_df.rename(columns={\"name\": \"artist\"}, inplace=True)"
   ]
  },
  {
   "cell_type": "code",
   "execution_count": null,
   "metadata": {},
   "outputs": [],
   "source": [
    "# | hide\n",
    "complete_history = (\n",
    "    clean_history.drop(\n",
    "        [\n",
    "            \"song\",\n",
    "            \"artist\",\n",
    "            \"album\",\n",
    "            \"episode_name\",\n",
    "            \"episode_show_name\",\n",
    "            \"spotify_episode_uri\",\n",
    "        ],\n",
    "        axis=1,\n",
    "    )\n",
    "    .merge(track_df, on=\"track_id\", how=\"left\")\n",
    "    .rename(\n",
    "        columns={\n",
    "            \"image_lg\": \"album_img_lg\",\n",
    "            \"image_md\": \"album_img_md\",\n",
    "            \"image_sm\": \"album_img_sm\",\n",
    "        }\n",
    "    )\n",
    "    .merge(\n",
    "        artist_df.rename(\n",
    "            columns={\n",
    "                \"popularity\": \"artist_popularity\",\n",
    "                \"images\": \"artist_images\",\n",
    "                \"followers\": \"artist_followers\",\n",
    "                \"image_xl\": \"artist_img_xl\",\n",
    "                \"image_lg\": \"artist_img_lg\",\n",
    "                \"image_md\": \"artist_img_md\",\n",
    "                \"image_sm\": \"artist_img_sm\",\n",
    "            }\n",
    "        ).drop([\"type\", \"href\", \"uri\", \"external_url\"], axis=1),\n",
    "        left_on=\"main_artist_id\",\n",
    "        right_on=\"artist_id\",\n",
    "        how=\"left\",\n",
    "    )\n",
    "    .drop([\"artist_id\"], axis=1)[\n",
    "        [\n",
    "            \"ts\",\n",
    "            \"song\",\n",
    "            \"album\",\n",
    "            \"artist\",\n",
    "            \"main_genre\",\n",
    "            \"secondary_genre\",\n",
    "            \"track_id\",\n",
    "            \"main_artist_id\",\n",
    "            \"album_id\",\n",
    "            \"album_release_date\",\n",
    "            \"album_release_date_precision\",\n",
    "            \"username\",\n",
    "            \"platform\",\n",
    "            \"ms_played\",\n",
    "            \"conn_country\",\n",
    "            \"ip_addr_decrypted\",\n",
    "            \"user_agent_decrypted\",\n",
    "            \"URI\",\n",
    "            \"reason_start\",\n",
    "            \"reason_end\",\n",
    "            \"shuffle\",\n",
    "            \"skipped\",\n",
    "            \"offline\",\n",
    "            \"offline_timestamp\",\n",
    "            \"incognito_mode\",\n",
    "            \"month\",\n",
    "            \"year\",\n",
    "            \"duration\",\n",
    "            \"percent_played\",\n",
    "            \"album_type\",\n",
    "            \"album_uri\",\n",
    "            \"album_external_url\",\n",
    "            \"album_href\",\n",
    "            \"album_images\",\n",
    "            \"artist_ids\",\n",
    "            \"danceability\",\n",
    "            \"energy\",\n",
    "            \"key\",\n",
    "            \"loudness\",\n",
    "            \"mode\",\n",
    "            \"speechiness\",\n",
    "            \"acousticness\",\n",
    "            \"instrumentalness\",\n",
    "            \"liveness\",\n",
    "            \"valence\",\n",
    "            \"tempo\",\n",
    "            \"analysis_url\",\n",
    "            \"time_signature\",\n",
    "            \"duration_ms\",\n",
    "            \"explicit\",\n",
    "            \"song_popularity\",\n",
    "            \"artist_followers\",\n",
    "            \"genres\",\n",
    "            \"artist_images\",\n",
    "            \"artist_popularity\",\n",
    "            \"album_release_year\",\n",
    "            \"album_decade\",\n",
    "            \"album_img_lg\",\n",
    "            \"album_img_md\",\n",
    "            \"album_img_sm\",\n",
    "            \"artist_img_xl\",\n",
    "            \"artist_img_lg\",\n",
    "            \"artist_img_md\",\n",
    "            \"artist_img_sm\",\n",
    "        ]\n",
    "    ]\n",
    ")"
   ]
  },
  {
   "cell_type": "code",
   "execution_count": null,
   "metadata": {},
   "outputs": [],
   "source": [
    "# | hide\n",
    "save_pickle_data(complete_history, Path(\"data/complete_history.pkl\"))\n",
    "save_pickle_data(track_df, Path(\"data/track_df.pkl\"))\n",
    "save_pickle_data(artist_df, Path(\"data/artist_df.pkl\"))"
   ]
  },
  {
   "cell_type": "code",
   "execution_count": null,
   "metadata": {},
   "outputs": [],
   "source": [
    "# | hide"
   ]
  },
  {
   "cell_type": "code",
   "execution_count": null,
   "metadata": {},
   "outputs": [],
   "source": [
    "# | hide"
   ]
  },
  {
   "cell_type": "code",
   "execution_count": null,
   "metadata": {},
   "outputs": [],
   "source": [
    "# | hide"
   ]
  },
  {
   "cell_type": "code",
   "execution_count": null,
   "metadata": {},
   "outputs": [],
   "source": [
    "# | hide"
   ]
  }
 ],
 "metadata": {
  "kernelspec": {
   "display_name": "spotify",
   "language": "python",
   "name": "python3"
  }
 },
 "nbformat": 4,
 "nbformat_minor": 2
}
