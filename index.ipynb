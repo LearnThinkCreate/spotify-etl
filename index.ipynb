{
 "cells": [
  {
   "cell_type": "markdown",
   "metadata": {},
   "source": [
    "# Spotify ETL\n",
    "\n",
    "> Extract Spotify History and Inject into DB for use in [my NextJS website](https://spotify-dashboard-sandy.vercel.app/)"
   ]
  },
  {
   "cell_type": "markdown",
   "metadata": {},
   "source": [
    "![spotify history dashboard](images/spotify-history.png)"
   ]
  },
  {
   "cell_type": "code",
   "execution_count": null,
   "metadata": {},
   "outputs": [],
   "source": [
    "# | hide\n",
    "import os\n",
    "import pandas as pd\n",
    "import spotipy\n",
    "from spotipy.oauth2 import SpotifyClientCredentials\n",
    "\n",
    "from pathlib import Path\n",
    "from sqlalchemy import create_engine\n",
    "from dotenv import load_dotenv\n",
    "from spotify_etl.core import extract_streaming_history\n",
    "\n",
    "load_dotenv()\n",
    "POSTGRES_URL = os.getenv(\"POSTGRES_URL\")\n",
    "engine = create_engine(POSTGRES_URL)\n",
    "sp = spotipy.Spotify(auth_manager=SpotifyClientCredentials())"
   ]
  },
  {
   "cell_type": "code",
   "execution_count": null,
   "metadata": {},
   "outputs": [
    {
     "data": {
      "text/plain": [
       "2.893060273972603"
      ]
     },
     "execution_count": null,
     "metadata": {},
     "output_type": "execute_result"
    }
   ],
   "source": [
    "# | hide\n",
    "pd.read_sql(\"SELECT SUM(hours_played) from spotify_data_overview\", engine).iloc[\n",
    "    0, 0\n",
    "].round(2) / 10 / 365"
   ]
  },
  {
   "cell_type": "code",
   "execution_count": null,
   "metadata": {},
   "outputs": [],
   "source": [
    "# | hide\n",
    "streaming_history = extract_streaming_history(Path(\"streaming_history\"))"
   ]
  },
  {
   "cell_type": "markdown",
   "metadata": {},
   "source": [
    "I love music. \n",
    "\n",
    "Since 2014 I've listened to around `3 hours` of music a day on Spotify. Hardly a day has gone by since I was 15 that I haven’t listened to any music. \n",
    "\n",
    "While sad I cried to music. While happy I danced to music. While angry I raged to music.\n",
    "\n",
    "My spotify history isn’t just some random dataset I scraped online. It’s personal. Inside it are a thousand songs that tell my life story. I want to find a way to tell that story.\n",
    "\n",
    "Like many websites, Spotify [provides users with access to their data](https://support.spotify.com/us/article/data-rights-and-privacy-settings/?ref=related). While it’s amazing this dataset exists, it’s not entirely useful in itself. See the dictionary below from a example record from 2017\n"
   ]
  },
  {
   "cell_type": "code",
   "execution_count": null,
   "metadata": {},
   "outputs": [
    {
     "data": {
      "text/plain": [
       "{'ts': '2017-04-22T21:43:11Z',\n",
       " 'username': 1241589622,\n",
       " 'platform': 'iOS 10.2 (iPhone7,2)',\n",
       " 'ms_played': 183925,\n",
       " 'conn_country': 'US',\n",
       " 'ip_addr_decrypted': '174.227.14.87',\n",
       " 'user_agent_decrypted': 'unknown',\n",
       " 'master_metadata_track_name': 'Seen It All',\n",
       " 'master_metadata_album_artist_name': 'Jeezy',\n",
       " 'master_metadata_album_album_name': 'Seen It All: The Autobiography',\n",
       " 'spotify_track_uri': 'spotify:track:0jkeRqlWciqKxU3iHQfdWj',\n",
       " 'episode_name': None,\n",
       " 'episode_show_name': None,\n",
       " 'spotify_episode_uri': None,\n",
       " 'reason_start': 'clickrow',\n",
       " 'reason_end': 'fwdbtn',\n",
       " 'shuffle': False,\n",
       " 'skipped': nan,\n",
       " 'offline': False,\n",
       " 'offline_timestamp': 1492897206495,\n",
       " 'incognito_mode': False}"
      ]
     },
     "execution_count": null,
     "metadata": {},
     "output_type": "execute_result"
    }
   ],
   "source": [
    "# |echo: false\n",
    "streaming_history[\"2017\"].head(1).to_dict(orient=\"records\")[0]"
   ]
  },
  {
   "cell_type": "markdown",
   "metadata": {},
   "source": [
    "Admittedly, there are some cool tidbits here. \n",
    "\n",
    "1st off: I was listening to Jeezy at 10PM on a Saturday night, my senior year of high school… I don’t imagine I was up to much good.\n",
    "\n",
    "Additionally I can see what phone I had at that time (cool), the reason I started, and ended, the track, and what album the song was from.\n",
    "\n",
    "That’s all solid information but it has no depth. It doesn’t help me tell my story.\n",
    "\n",
    "It’s missing crucial metadata about the song like its energy, genre, and release data. In order to find all this information another tool is required: [the spotify api](https://developer.spotify.com/documentation/web-api/reference/get-track). The API has (most) of the information. See below"
   ]
  },
  {
   "cell_type": "code",
   "execution_count": null,
   "metadata": {},
   "outputs": [
    {
     "data": {
      "text/plain": [
       "{'artists': [{'external_urls': {'spotify': 'https://open.spotify.com/artist/4yBK75WVCQXej1p04GWqxH'},\n",
       "   'href': 'https://api.spotify.com/v1/artists/4yBK75WVCQXej1p04GWqxH',\n",
       "   'id': '4yBK75WVCQXej1p04GWqxH',\n",
       "   'name': 'Jeezy',\n",
       "   'type': 'artist',\n",
       "   'uri': 'spotify:artist:4yBK75WVCQXej1p04GWqxH'},\n",
       "  {'external_urls': {'spotify': 'https://open.spotify.com/artist/3nFkdlSjzX9mRTtwJOzDYB'},\n",
       "   'href': 'https://api.spotify.com/v1/artists/3nFkdlSjzX9mRTtwJOzDYB',\n",
       "   'id': '3nFkdlSjzX9mRTtwJOzDYB',\n",
       "   'name': 'JAY-Z',\n",
       "   'type': 'artist',\n",
       "   'uri': 'spotify:artist:3nFkdlSjzX9mRTtwJOzDYB'}],\n",
       " 'duration_ms': 207533,\n",
       " 'explicit': True,\n",
       " 'name': 'Seen It All',\n",
       " 'popularity': 59,\n",
       " 'preview_url': None}"
      ]
     },
     "execution_count": null,
     "metadata": {},
     "output_type": "execute_result"
    }
   ],
   "source": [
    "track = sp.track(\"0jkeRqlWciqKxU3iHQfdWj\")\n",
    "{\n",
    "    k: track[k]\n",
    "    for k in [\"artists\", \"duration_ms\", \"explicit\", \"name\", \"popularity\", \"preview_url\"]\n",
    "}"
   ]
  },
  {
   "cell_type": "markdown",
   "metadata": {},
   "source": [
    "With the track endpoint we start to get some more information! We see that Jay-Z is also on the track, that it’s explicit (...), and how long the song is.\n",
    "\n",
    "We can do better.\n",
    "\n",
    "Let’s take a look at the `Audio Feature` endpoint"
   ]
  },
  {
   "cell_type": "code",
   "execution_count": null,
   "metadata": {},
   "outputs": [
    {
     "data": {
      "text/plain": [
       "[{'danceability': 0.711,\n",
       "  'energy': 0.833,\n",
       "  'key': 7,\n",
       "  'loudness': -4.818,\n",
       "  'mode': 1,\n",
       "  'speechiness': 0.154,\n",
       "  'acousticness': 0.135,\n",
       "  'instrumentalness': 0,\n",
       "  'liveness': 0.301,\n",
       "  'valence': 0.545,\n",
       "  'tempo': 106.094,\n",
       "  'type': 'audio_features',\n",
       "  'id': '0jkeRqlWciqKxU3iHQfdWj',\n",
       "  'uri': 'spotify:track:0jkeRqlWciqKxU3iHQfdWj',\n",
       "  'track_href': 'https://api.spotify.com/v1/tracks/0jkeRqlWciqKxU3iHQfdWj',\n",
       "  'analysis_url': 'https://api.spotify.com/v1/audio-analysis/0jkeRqlWciqKxU3iHQfdWj',\n",
       "  'duration_ms': 207533,\n",
       "  'time_signature': 4}]"
      ]
     },
     "execution_count": null,
     "metadata": {},
     "output_type": "execute_result"
    }
   ],
   "source": [
    "sp.audio_features(\"0jkeRqlWciqKxU3iHQfdWj\")"
   ]
  },
  {
   "cell_type": "markdown",
   "metadata": {},
   "source": [
    "Now we’re cooking baby!\n",
    "\n",
    "Now we can start to quantify the songs I’m listening to. Seen It All is high energy (yeah it is), pretty danceable, and has a tempo of 106 BPM.\n",
    "\n",
    "What about the genre though?\n",
    "\n",
    "In my opinion that’s one of the most important characteristics of a song and it turns out that spotify only provides genre metadata at the artist level `:(`"
   ]
  },
  {
   "cell_type": "code",
   "execution_count": null,
   "metadata": {},
   "outputs": [
    {
     "data": {
      "text/plain": [
       "{'external_urls': {'spotify': 'https://open.spotify.com/artist/4yBK75WVCQXej1p04GWqxH'},\n",
       " 'followers': {'href': None, 'total': 2360020},\n",
       " 'genres': ['atl hip hop',\n",
       "  'crunk',\n",
       "  'dirty south rap',\n",
       "  'gangster rap',\n",
       "  'old school atlanta hip hop',\n",
       "  'rap',\n",
       "  'southern hip hop',\n",
       "  'trap'],\n",
       " 'href': 'https://api.spotify.com/v1/artists/4yBK75WVCQXej1p04GWqxH',\n",
       " 'id': '4yBK75WVCQXej1p04GWqxH',\n",
       " 'images': [{'height': 640,\n",
       "   'url': 'https://i.scdn.co/image/ab6761610000e5eb075a4c9d6da66addd8247c12',\n",
       "   'width': 640},\n",
       "  {'height': 320,\n",
       "   'url': 'https://i.scdn.co/image/ab67616100005174075a4c9d6da66addd8247c12',\n",
       "   'width': 320},\n",
       "  {'height': 160,\n",
       "   'url': 'https://i.scdn.co/image/ab6761610000f178075a4c9d6da66addd8247c12',\n",
       "   'width': 160}],\n",
       " 'name': 'Jeezy',\n",
       " 'popularity': 70,\n",
       " 'type': 'artist',\n",
       " 'uri': 'spotify:artist:4yBK75WVCQXej1p04GWqxH'}"
      ]
     },
     "execution_count": null,
     "metadata": {},
     "output_type": "execute_result"
    }
   ],
   "source": [
    "sp.artist(\"4yBK75WVCQXej1p04GWqxH\")"
   ]
  },
  {
   "cell_type": "markdown",
   "metadata": {},
   "source": [
    "Throughout these notebooks I transform my original spotify data from a bunch or json files to a series of database tables and a materialized view that enables me to build a website to display my history.\n",
    "\n",
    "And I’m only getting started…"
   ]
  }
 ],
 "metadata": {
  "kernelspec": {
   "display_name": "python3",
   "language": "python",
   "name": "python3"
  }
 },
 "nbformat": 4,
 "nbformat_minor": 4
}
