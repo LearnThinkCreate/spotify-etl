{
 "cells": [
  {
   "cell_type": "markdown",
   "metadata": {},
   "source": [
    "# Seed Database\n",
    "\n",
    "> Load Data Into DB"
   ]
  },
  {
   "cell_type": "code",
   "execution_count": null,
   "metadata": {},
   "outputs": [],
   "source": [
    "import os\n",
    "import pickle\n",
    "import pandas as pd\n",
    "\n",
    "from pathlib import Path\n",
    "from sqlalchemy import create_engine\n",
    "from sqlalchemy.sql import text\n",
    "from spotify_etl.core import *\n",
    "from dotenv import load_dotenv"
   ]
  },
  {
   "cell_type": "code",
   "execution_count": null,
   "metadata": {},
   "outputs": [],
   "source": [
    "# | hide\n",
    "pd.set_option(\"display.max_rows\", 500)\n",
    "pd.set_option(\"display.max_columns\", 500)\n",
    "pd.set_option(\"display.width\", 1000)"
   ]
  },
  {
   "cell_type": "code",
   "execution_count": null,
   "metadata": {},
   "outputs": [],
   "source": [
    "complete_history = get_pickle_data(Path(\"data/complete_history.pkl\"))\n",
    "track_df = get_pickle_data(Path(\"data/track_df.pkl\"))\n",
    "artist_df = get_pickle_data(Path(\"data/artist_df.pkl\"))"
   ]
  },
  {
   "cell_type": "code",
   "execution_count": null,
   "metadata": {},
   "outputs": [],
   "source": [
    "load_dotenv()\n",
    "POSTGRES_URL = os.getenv(\"POSTGRES_URL\")"
   ]
  },
  {
   "cell_type": "code",
   "execution_count": null,
   "metadata": {},
   "outputs": [],
   "source": [
    "engine = create_engine(POSTGRES_URL)"
   ]
  },
  {
   "cell_type": "markdown",
   "metadata": {},
   "source": [
    "## Creating Tables\n",
    "\n",
    "> Creating Tables if not exists"
   ]
  },
  {
   "cell_type": "markdown",
   "metadata": {},
   "source": [
    "To optimize query speed I'll be creating indexes on frequently filtered data"
   ]
  },
  {
   "cell_type": "code",
   "execution_count": null,
   "metadata": {},
   "outputs": [],
   "source": [
    "def create_index(table, column):\n",
    "    return text(\n",
    "        f\"CREATE INDEX IF NOT EXISTS idx_{table}_{column} ON {table}({column});\"\n",
    "    )"
   ]
  },
  {
   "cell_type": "markdown",
   "metadata": {},
   "source": [
    "> Artist Metadata"
   ]
  },
  {
   "cell_type": "code",
   "execution_count": null,
   "metadata": {},
   "outputs": [],
   "source": [
    "with engine.connect() as conn:\n",
    "    conn.execute(\n",
    "        text(\n",
    "            f\"\"\"\n",
    "    CREATE TABLE IF NOT EXISTS artist_metadata (\n",
    "        \"artist_id\" text PRIMARY KEY UNIQUE,\n",
    "        \"artist\" text,\n",
    "        \"main_genre\" text,\n",
    "        \"secondary_genre\" text,\n",
    "        \"genres\" text,\n",
    "        \"popularity\" integer,\n",
    "        \"followers\" integer,\n",
    "        \"image_xl\" JSONB,\n",
    "        \"image_lg\" JSONB,\n",
    "        \"image_md\" JSONB,\n",
    "        \"image_sm\" JSONB,\n",
    "        \"images\" JSONB,\n",
    "        \"type\" text,\n",
    "        \"uri\" text,\n",
    "        \"external_url\" text,\n",
    "        \"href\" text       \n",
    "    );\n",
    "    \"\"\"\n",
    "        )\n",
    "    )\n",
    "    conn.commit()\n",
    "    conn.execute(create_index(\"artist_metadata\", \"main_genre\"))\n",
    "    conn.execute(create_index(\"artist_metadata\", \"secondary_genre\"))\n",
    "    conn.commit()"
   ]
  },
  {
   "cell_type": "markdown",
   "metadata": {},
   "source": [
    "> Track Metadata"
   ]
  },
  {
   "cell_type": "code",
   "execution_count": null,
   "metadata": {},
   "outputs": [],
   "source": [
    "with engine.connect() as conn:\n",
    "    conn.execute(\n",
    "        text(\n",
    "            f\"\"\"\n",
    "    CREATE TABLE IF NOT EXISTS track_metadata (\n",
    "    \"track_id\" TEXT PRIMARY KEY UNIQUE,\n",
    "    \"song\" TEXT,\n",
    "    \"album\" TEXT,\n",
    "    \"explicit\" BOOLEAN,\n",
    "    \"song_popularity\" INTEGER,\n",
    "    \"main_artist_id\" TEXT  REFERENCES artist_metadata(artist_id),\n",
    "    \"artist_names\" TEXT,\n",
    "    \"artist_ids\" TEXT,\n",
    "    \"album_id\" TEXT,\n",
    "    \"album_release_date\" TEXT,\n",
    "    \"album_release_date_precision\" TEXT,\n",
    "    \"album_external_url\" TEXT,\n",
    "    \"album_href\" TEXT,\n",
    "    \"album_images\" JSONB,\n",
    "    \"album_type\" TEXT,\n",
    "    \"album_uri\" TEXT,\n",
    "    \"danceability\" FLOAT,\n",
    "    \"energy\" FLOAT,\n",
    "    \"key\" INTEGER,\n",
    "    \"loudness\" FLOAT,\n",
    "    \"mode\" INTEGER,\n",
    "    \"speechiness\" FLOAT,\n",
    "    \"acousticness\" FLOAT,\n",
    "    \"instrumentalness\" FLOAT,\n",
    "    \"liveness\" FLOAT,\n",
    "    \"valence\" FLOAT,\n",
    "    \"tempo\" FLOAT,\n",
    "    \"duration_ms\" INTEGER,\n",
    "    \"time_signature\" INTEGER,\n",
    "    \"album_release_year\" INTEGER,\n",
    "    \"album_decade\" TEXT,\n",
    "    \"image_lg\" JSONB,\n",
    "    \"image_md\" JSONB,\n",
    "    \"image_sm\" JSONB,\n",
    "    \"analysis_url\" TEXT\n",
    "    );\n",
    "    \"\"\"\n",
    "        )\n",
    "    )\n",
    "    conn.commit()\n",
    "    conn.execute(create_index(\"track_metadata\", \"main_artist_id\"))\n",
    "    conn.execute(create_index(\"track_metadata\", \"album_id\"))\n",
    "    conn.execute(create_index(\"track_metadata\", \"album_release_year\"))\n",
    "    conn.execute(create_index(\"track_metadata\", \"album_decade\"))\n",
    "    conn.commit()"
   ]
  },
  {
   "cell_type": "markdown",
   "metadata": {},
   "source": [
    "> Spotify History (Partition)"
   ]
  },
  {
   "cell_type": "markdown",
   "metadata": {},
   "source": [
    "One of the main goals of this project is to analyze my listening history over time. With this in mind, I decided to partition the spotify history table by year to optimize for queries over specific periods of time. This approach allows queries to quickly access relevant data by narrowing down the search to specific partitions, reducing the need to scan the entire table. It's especially effective for managing and analyzing large volumes of data over defined time periods, making the system more responsive and scalable.\n",
    "\n",
    "In addition to greatly enhancing query performance this method also simplifies maintenance tasks, such as data archiving or cleanup, by isolating data into manageable chunks."
   ]
  },
  {
   "cell_type": "code",
   "execution_count": null,
   "metadata": {},
   "outputs": [],
   "source": [
    "with engine.connect() as conn:\n",
    "    conn.execute(\n",
    "        text(\n",
    "            f\"\"\"\n",
    "    -- Create the history table\n",
    "    CREATE TABLE IF NOT EXISTS spotify_history (\n",
    "        \"id\" INTEGER NOT NULL,\n",
    "        \"ts\" TIMESTAMP NOT NULL,\n",
    "        \"username\" INTEGER,\n",
    "        \"platform\" text,\n",
    "        \"ms_played\" INTEGER,\n",
    "        \"conn_country\" text,\n",
    "        \"ip_addr_decrypted\" text,\n",
    "        \"user_agent_decrypted\" text,\n",
    "        \"song\" text,\n",
    "        \"artist\" text,\n",
    "        \"album\" text,\n",
    "        \"URI\" text,\n",
    "        \"reason_start\" text,\n",
    "        \"reason_end\" text,\n",
    "        \"shuffle\" BOOLEAN,\n",
    "        \"skipped\" text,\n",
    "        \"offline\" text,\n",
    "        \"offline_timestamp\" FLOAT,\n",
    "        \"incognito_mode\" BOOLEAN,\n",
    "        \"month\" smallint,\n",
    "        \"year\" smallint,\n",
    "        \"track_id\" text REFERENCES track_metadata(track_id),\n",
    "        \"main_artist_id\" text REFERENCES artist_metadata(artist_id),\n",
    "        \"percent_played\" FLOAT\n",
    "    )  \n",
    "    PARTITION BY RANGE (ts)\n",
    "    ;\n",
    "                      \n",
    "\n",
    "    -- Create a sequence for the primary key\n",
    "    CREATE SEQUENCE IF NOT EXISTS spotify_history_id_seq;\n",
    "                      \n",
    "\n",
    "    -- Create a function to create yearly partitions        \n",
    "    CREATE OR REPLACE FUNCTION create_yearly_partitions(start_year INT, end_year INT)\n",
    "    RETURNS VOID AS $$\n",
    "    DECLARE\n",
    "        current_year INT := start_year;\n",
    "        partition_name TEXT;\n",
    "        index_name TEXT;\n",
    "    BEGIN\n",
    "        WHILE current_year <= end_year LOOP\n",
    "            partition_name := 'spotify_history_y' || current_year;\n",
    "            index_name := partition_name || '_id_idx';\n",
    "\n",
    "            -- Create partition table using dollar-quoting for the SQL string\n",
    "            EXECUTE format($f$\n",
    "                CREATE TABLE IF NOT EXISTS %I\n",
    "                PARTITION OF spotify_history FOR VALUES FROM (%L) TO (%L);\n",
    "            $f$, partition_name, current_year || '-01-01', (current_year + 1) || '-01-01');\n",
    "\n",
    "            -- Create unique index on the partition table\n",
    "            EXECUTE format($f$\n",
    "                CREATE UNIQUE INDEX IF NOT EXISTS %I\n",
    "                ON %I (id);\n",
    "            $f$, index_name, partition_name);\n",
    "    \n",
    "            current_year := current_year + 1;\n",
    "        END LOOP;\n",
    "     END;\n",
    "     $$ LANGUAGE plpgsql;\n",
    "                      \n",
    "    -- Add the yearly partitions\n",
    "    SELECT create_yearly_partitions({complete_history.year.min()}, EXTRACT(YEAR FROM CURRENT_DATE)::INT);\n",
    "\n",
    "    -- Create a function to automatically insert new rows into the correct partition\n",
    "    CREATE OR REPLACE FUNCTION spotify_history_auto_id()\n",
    "    RETURNS TRIGGER AS $$\n",
    "    BEGIN\n",
    "        -- Check if the new row's id is NULL or not provided and automatically assign a value from the sequence\n",
    "        IF NEW.id IS NULL THEN\n",
    "            NEW.id := nextval('spotify_history_id_seq');\n",
    "        END IF;\n",
    "        RETURN NEW;\n",
    "    END;\n",
    "    $$ LANGUAGE plpgsql;\n",
    "\n",
    "    -- Trigger to automatically insert new rows into the correct partition\n",
    "    CREATE OR REPLACE TRIGGER spotify_history_before_insert\n",
    "    BEFORE INSERT ON spotify_history\n",
    "    FOR EACH ROW EXECUTE FUNCTION spotify_history_auto_id();\n",
    "    \"\"\"\n",
    "        )\n",
    "    )\n",
    "    conn.commit()\n",
    "    conn.execute(create_index(\"spotify_history\", \"ts\"))\n",
    "    conn.execute(create_index(\"spotify_history\", \"main_artist_id\"))\n",
    "    conn.execute(create_index(\"spotify_history\", \"track_id\"))\n",
    "    conn.execute(create_index(\"spotify_history\", \"year\"))\n",
    "    conn.execute(create_index(\"spotify_history\", \"month\"))\n",
    "    conn.execute(create_index(\"spotify_history\", \"album\"))\n",
    "    conn.commit()"
   ]
  },
  {
   "cell_type": "markdown",
   "metadata": {},
   "source": [
    "> Artist Tracks"
   ]
  },
  {
   "cell_type": "code",
   "execution_count": null,
   "metadata": {},
   "outputs": [],
   "source": [
    "with engine.connect() as conn:\n",
    "    conn.execute(\n",
    "        text(\n",
    "            f\"\"\"\n",
    "    CREATE TABLE IF NOT EXISTS artist_tracks (\n",
    "        id SERIAL PRIMARY KEY UNIQUE,\n",
    "        \"track_id\" TEXT REFERENCES track_metadata(track_id),\n",
    "        \"artist_id\" TEXT REFERENCES artist_metadata(artist_id),\n",
    "        \"is_main_artist\" BOOLEAN\n",
    "    );\n",
    "    \"\"\"\n",
    "        )\n",
    "    )\n",
    "    conn.commit()\n",
    "    conn.execute(create_index(\"artist_tracks\", \"artist_id\"))\n",
    "    conn.execute(create_index(\"artist_tracks\", \"track_id\"))\n",
    "    conn.execute(create_index(\"artist_tracks\", \"is_main_artist\"))\n",
    "    conn.commit()"
   ]
  },
  {
   "cell_type": "markdown",
   "metadata": {},
   "source": [
    "## Getting Data Ready"
   ]
  },
  {
   "cell_type": "code",
   "execution_count": null,
   "metadata": {},
   "outputs": [],
   "source": [
    "# |code-fold: true\n",
    "artist_metadata = artist_df[\n",
    "    [\n",
    "        \"artist_id\",\n",
    "        \"artist\",\n",
    "        \"main_genre\",\n",
    "        \"secondary_genre\",\n",
    "        \"genres\",\n",
    "        \"popularity\",\n",
    "        \"followers\",\n",
    "        \"image_xl\",\n",
    "        \"image_lg\",\n",
    "        \"image_md\",\n",
    "        \"image_sm\",\n",
    "        \"images\",\n",
    "        \"type\",\n",
    "        \"uri\",\n",
    "        \"external_url\",\n",
    "        \"href\",\n",
    "    ]\n",
    "].copy()\n",
    "\n",
    "track_metadata = track_df[\n",
    "    [\n",
    "        \"track_id\",\n",
    "        \"song\",\n",
    "        \"album\",\n",
    "        \"explicit\",\n",
    "        \"song_popularity\",\n",
    "        \"main_artist_id\",\n",
    "        \"artist_names\",\n",
    "        \"artist_ids\",\n",
    "        \"album_id\",\n",
    "        \"album_release_date\",\n",
    "        \"album_release_date_precision\",\n",
    "        \"album_external_url\",\n",
    "        \"album_href\",\n",
    "        \"album_images\",\n",
    "        \"album_type\",\n",
    "        \"album_uri\",\n",
    "        \"danceability\",\n",
    "        \"energy\",\n",
    "        \"key\",\n",
    "        \"loudness\",\n",
    "        \"mode\",\n",
    "        \"speechiness\",\n",
    "        \"acousticness\",\n",
    "        \"instrumentalness\",\n",
    "        \"liveness\",\n",
    "        \"valence\",\n",
    "        \"tempo\",\n",
    "        \"duration_ms\",\n",
    "        \"time_signature\",\n",
    "        \"album_release_year\",\n",
    "        \"album_decade\",\n",
    "        \"image_lg\",\n",
    "        \"image_md\",\n",
    "        \"image_sm\",\n",
    "        \"analysis_url\",\n",
    "    ]\n",
    "].copy()\n",
    "\n",
    "spotify_history = complete_history[\n",
    "    [\n",
    "        \"ts\",\n",
    "        \"username\",\n",
    "        \"platform\",\n",
    "        \"ms_played\",\n",
    "        \"conn_country\",\n",
    "        \"ip_addr_decrypted\",\n",
    "        \"user_agent_decrypted\",\n",
    "        \"song\",\n",
    "        \"artist\",\n",
    "        \"album\",\n",
    "        \"URI\",\n",
    "        \"reason_start\",\n",
    "        \"reason_end\",\n",
    "        \"shuffle\",\n",
    "        \"skipped\",\n",
    "        \"offline\",\n",
    "        \"offline_timestamp\",\n",
    "        \"incognito_mode\",\n",
    "        \"month\",\n",
    "        \"year\",\n",
    "        \"track_id\",\n",
    "        \"main_artist_id\",\n",
    "        \"percent_played\",\n",
    "    ]\n",
    "].copy()"
   ]
  },
  {
   "cell_type": "markdown",
   "metadata": {},
   "source": [
    "Creating a function to get the artist track data"
   ]
  },
  {
   "cell_type": "code",
   "execution_count": null,
   "metadata": {},
   "outputs": [],
   "source": [
    "# |code-fold: true\n",
    "def create_artist_track(trck_metadata_df):\n",
    "    artist_tracks = (\n",
    "        track_df[[\"track_id\", \"artist_ids\", \"main_artist_id\"]]\n",
    "        .reset_index(drop=True)\n",
    "        .copy()\n",
    "    )\n",
    "\n",
    "    artist_tracks_exploded = artist_tracks.assign(\n",
    "        artist_id=artist_tracks[\"artist_ids\"].str.split(\";;\")\n",
    "    ).explode(\"artist_id\")\n",
    "\n",
    "    artist_tracks_exploded[\"is_main_artist\"] = (\n",
    "        artist_tracks_exploded[\"artist_id\"] == artist_tracks_exploded[\"main_artist_id\"]\n",
    "    )\n",
    "\n",
    "    final_df = artist_tracks_exploded[[\n",
    "        \"track_id\", \"artist_id\", \"is_main_artist\"]]\n",
    "\n",
    "    return final_df.reset_index(drop=True)\n",
    "\n",
    "\n",
    "artist_tracks = create_artist_track(track_df)"
   ]
  },
  {
   "cell_type": "markdown",
   "metadata": {},
   "source": [
    "## Load Data\n",
    "\n",
    "> If it hasn't already been loaded"
   ]
  },
  {
   "cell_type": "markdown",
   "metadata": {},
   "source": [
    "Since the goal of this project is to work with a snapshot of the data, we can check if there's data in the tables before proceeding. "
   ]
  },
  {
   "cell_type": "code",
   "execution_count": null,
   "metadata": {},
   "outputs": [],
   "source": [
    "def insert_data(df, table):\n",
    "    with engine.connect() as connection:\n",
    "        result = connection.execute(\n",
    "            text(\"SELECT COUNT(*) FROM spotify_history\"))\n",
    "        count = result.scalar()\n",
    "        if count == 0:\n",
    "            df.to_sql(table, connection, if_exists=\"append\", index=False)\n",
    "        else:\n",
    "            print(\"Table already has data, skipping insert\")"
   ]
  },
  {
   "cell_type": "code",
   "execution_count": null,
   "metadata": {},
   "outputs": [
    {
     "name": "stdout",
     "output_type": "stream",
     "text": [
      "Table already has data, skipping insert\n"
     ]
    }
   ],
   "source": [
    "insert_data(artist_metadata, \"artist_metadata\")"
   ]
  },
  {
   "cell_type": "code",
   "execution_count": null,
   "metadata": {},
   "outputs": [
    {
     "name": "stdout",
     "output_type": "stream",
     "text": [
      "Table already has data, skipping insert\n"
     ]
    }
   ],
   "source": [
    "insert_data(track_metadata, \"track_metadata\")"
   ]
  },
  {
   "cell_type": "code",
   "execution_count": null,
   "metadata": {},
   "outputs": [
    {
     "name": "stdout",
     "output_type": "stream",
     "text": [
      "Table already has data, skipping insert\n"
     ]
    }
   ],
   "source": [
    "insert_data(spotify_history, \"spotify_history\")"
   ]
  },
  {
   "cell_type": "code",
   "execution_count": null,
   "metadata": {},
   "outputs": [
    {
     "name": "stdout",
     "output_type": "stream",
     "text": [
      "Table already has data, skipping insert\n"
     ]
    }
   ],
   "source": [
    "insert_data(artist_tracks, \"artist_tracks\")"
   ]
  },
  {
   "cell_type": "markdown",
   "metadata": {},
   "source": [
    "## Creating Materialized View\n",
    "\n",
    "> ... Making Dashboarding Easier :)"
   ]
  },
  {
   "cell_type": "markdown",
   "metadata": {},
   "source": [
    "Since the data is static and my is to build a dashboard I've chosen to write a materialized view. Using a materialized view is beneficial because it allows precomputing and storing complex joins and aggregations from the underlying data tables. This significantly enhances query performance when accessing the dashboard, as intensive computation is handled during the view's refresh phase rather than at query time. Since the data is static, the materialized view doesn't require frequent updates, making it an efficient way to provide quick access to processed data without extra load on the database during peak usage. This method is particularly effective for ensuring fast response times and improving scalability of the dashboard application."
   ]
  },
  {
   "cell_type": "code",
   "execution_count": null,
   "metadata": {},
   "outputs": [],
   "source": [
    "with engine.connect() as conn:\n",
    "    conn.execute(\n",
    "        text(\n",
    "            f\"\"\" \n",
    "    CREATE MATERIALIZED VIEW IF NOT EXISTS spotify_data_overview AS\n",
    "    with timePlayed AS (\n",
    "\tselect\n",
    "\t\tsh.id,\n",
    "\t\tCAST(SUM(sh.ms_played) AS FLOAT) / (1000 * 60 * 60) as hours_played,\n",
    "\t\tCAST(SUM(sh.ms_played) AS FLOAT) / (1000 * 60) as minutes_played\n",
    "\tfrom \n",
    "\t\tspotify_history as sh\n",
    "\tgroup by sh.id\n",
    ")\n",
    "    SELECT\n",
    "        sh.id,\n",
    "        sh.ts,\n",
    "        tm.song,\n",
    "        am.artist,\n",
    "        tm.album,\n",
    "        am.main_genre,\n",
    "        am.secondary_genre,   \n",
    "        am.genres as genre_list,\n",
    "        tm.artist_names,\n",
    "        tm.artist_ids,\n",
    "        tm.image_lg as album_image_lg,\n",
    "        tm.image_md as album_image_md,\n",
    "        tm.image_sm as album_image_sm,\n",
    "        tm.album_images,\n",
    "        am.image_xl as artist_image_xl,\n",
    "        am.image_lg as artist_image_lg,\n",
    "        am.image_md as artist_image_md,\n",
    "        am.image_sm as artist_image_sm,\n",
    "        am.images as artist_images,\n",
    "        tm.track_id,\n",
    "        am.artist_id,\n",
    "        tm.album_id,\n",
    "        tm.explicit,\n",
    "        tm.song_popularity,\n",
    "        am.popularity AS artist_popularity,\n",
    "        tm.danceability,\n",
    "        tm.energy,\n",
    "        tm.key,\n",
    "        tm.loudness,\n",
    "        tm.mode,\n",
    "        tm.speechiness,\n",
    "        tm.acousticness,\n",
    "        tm.instrumentalness,\n",
    "        tm.liveness,\n",
    "        tm.valence,\n",
    "        tm.tempo,\n",
    "        tm.duration_ms,\n",
    "        tm.time_signature,\n",
    "        tm.album_release_date AS release_date,\n",
    "        tm.album_release_year,\n",
    "        tm.album_decade,   \n",
    "        DATE_TRUNC('month', sh.ts) as \"month\", -- Truncate the timestamp to the month\n",
    "        DATE_TRUNC('year', sh.ts) as \"year\", -- Truncate the timestamp to the year\n",
    "        CASE\n",
    "          WHEN am.main_genre ILIKE '% lo-fi' OR am.main_genre ILIKE 'lo-fi%' OR am.main_genre ILIKE '% lo-fi %' THEN 'Non-Rap'\n",
    "          WHEN am.main_genre ILIKE '% hip hop' OR am.main_genre ILIKE 'hip hop%' OR am.main_genre ILIKE '% hip hop %'\n",
    "              OR am.main_genre ILIKE '% rap' OR am.main_genre ILIKE 'rap%' OR am.main_genre ILIKE '% rap %' THEN 'Rap'\n",
    "          ELSE 'Non-Rap'\n",
    "        END AS genre_category,\n",
    "        sh.ms_played,\n",
    "\t\ttp.minutes_played,\n",
    "\t\ttp.hours_played,\n",
    "\t\tDATE_TRUNC('day', sh.ts) as \"day\", -- Truncate the timestamp to the year\n",
    "        sh.reason_start,\n",
    "        sh.reason_end,\n",
    "        sh.shuffle,\n",
    "        CASE \n",
    "            WHEN tm.instrumentalness > 0.5 THEN TRUE\n",
    "            ELSE FALSE\n",
    "        END AS is_instrumental\n",
    "    FROM spotify_history sh\n",
    "    JOIN track_metadata tm ON sh.track_id = tm.track_id\n",
    "    JOIN artist_metadata am ON sh.main_artist_id = am.artist_id\n",
    "\tJOIN timePlayed tp ON sh.id = tp.id\n",
    "    \"\"\"\n",
    "        )\n",
    "    )\n",
    "    conn.commit()\n",
    "    conn.execute(create_index(\"spotify_data_overview\", \"artist_id\"))\n",
    "    conn.execute(create_index(\"spotify_data_overview\", \"track_id\"))\n",
    "    conn.execute(create_index(\"spotify_data_overview\", \"album_id\"))\n",
    "    conn.execute(create_index(\"spotify_data_overview\", \"year\"))\n",
    "    conn.execute(create_index(\"spotify_data_overview\", \"month\"))\n",
    "    conn.execute(create_index(\"spotify_data_overview\", \"song\"))\n",
    "    conn.execute(create_index(\"spotify_data_overview\", \"artist\"))\n",
    "    conn.execute(create_index(\"spotify_data_overview\", \"album\"))\n",
    "    conn.execute(create_index(\"spotify_data_overview\", \"main_genre\"))\n",
    "    conn.execute(create_index(\"spotify_data_overview\", \"secondary_genre\"))\n",
    "    conn.execute(create_index(\"spotify_data_overview\", \"genre_list\"))\n",
    "    conn.execute(create_index(\"spotify_data_overview\", \"artist_names\"))\n",
    "    conn.execute(create_index(\"spotify_data_overview\", \"ts\"))\n",
    "    conn.execute(create_index(\"spotify_data_overview\", \"genre_category\"))\n",
    "    conn.commit()"
   ]
  },
  {
   "cell_type": "code",
   "execution_count": null,
   "metadata": {},
   "outputs": [],
   "source": [
    "# | hide\n",
    "import nbdev\n",
    "\n",
    "nbdev.nbdev_export()"
   ]
  }
 ],
 "metadata": {
  "kernelspec": {
   "display_name": "spotify",
   "language": "python",
   "name": "python3"
  }
 },
 "nbformat": 4,
 "nbformat_minor": 2
}
