{
 "cells": [
  {
   "cell_type": "markdown",
   "metadata": {},
   "source": [
    "# Pull Spotify History\n",
    "\n",
    "> Consonlidate history JSON files and gather metadata from the Spotify API"
   ]
  },
  {
   "cell_type": "code",
   "execution_count": null,
   "metadata": {},
   "outputs": [],
   "source": [
    "# | default_exp core"
   ]
  },
  {
   "cell_type": "code",
   "execution_count": null,
   "metadata": {},
   "outputs": [],
   "source": [
    "# | hide\n",
    "from nbdev.showdoc import *"
   ]
  },
  {
   "cell_type": "code",
   "execution_count": null,
   "metadata": {},
   "outputs": [],
   "source": [
    "# | export\n",
    "import pandas as pd\n",
    "import re\n",
    "import time\n",
    "import requests\n",
    "import json\n",
    "import spotipy\n",
    "import pickle\n",
    "\n",
    "\n",
    "from pathlib import Path\n",
    "from typing import List, Dict, Optional\n",
    "from spotipy.oauth2 import SpotifyClientCredentials\n",
    "from dotenv import load_dotenv"
   ]
  },
  {
   "cell_type": "code",
   "execution_count": null,
   "metadata": {},
   "outputs": [],
   "source": [
    "pd.set_option(\"display.max_rows\", 500)\n",
    "pd.set_option(\"display.max_columns\", 500)\n",
    "pd.set_option(\"display.width\", 1000)"
   ]
  },
  {
   "cell_type": "code",
   "execution_count": null,
   "metadata": {},
   "outputs": [],
   "source": [
    "def get_spotipy_obj():\n",
    "    load_dotenv()\n",
    "    return spotipy.Spotify(auth_manager=SpotifyClientCredentials())"
   ]
  },
  {
   "cell_type": "markdown",
   "metadata": {},
   "source": [
    "## Extract Streaming History\n",
    "\n",
    "> Converting History JSON Files into Pandas DF"
   ]
  },
  {
   "cell_type": "markdown",
   "metadata": {},
   "source": [
    "Spotify provides a user's history in a series of JSON Files. Some years have multiple files. I wrote a simple function to consolidate this history into a Dict with each year as the key"
   ]
  },
  {
   "cell_type": "code",
   "execution_count": null,
   "metadata": {},
   "outputs": [],
   "source": [
    "# | export\n",
    "# |hide\n",
    "def extract_streaming_history(\n",
    "    data_folder: Path,  # Path to the folder containing the streaming history files\n",
    ") -> Dict[str, pd.DataFrame]:  # Dictionary containing DataFrames for each year\n",
    "\n",
    "    def get_json_files(data_folder: Path) -> List[Path]:\n",
    "        \"\"\"\n",
    "        Get all the json files in the streaming_history folder.\n",
    "        \"\"\"\n",
    "\n",
    "        json_files = []\n",
    "\n",
    "        for file in data_folder.iterdir():\n",
    "            if file.suffix == \".json\":\n",
    "                json_files.append(file)\n",
    "\n",
    "        return json_files\n",
    "\n",
    "    def extract_year_from_filename(filename: str) -> str:\n",
    "        \"\"\"\n",
    "        Extract the year from a filename. The year should be a single year,\n",
    "        not a range of years. For example, 2021-2022 should be 2021.\n",
    "        \"\"\"\n",
    "\n",
    "        year = re.search(r\"\\d{4}\", filename).group()\n",
    "\n",
    "        return year\n",
    "\n",
    "    year_to_df = {}\n",
    "\n",
    "    paths = get_json_files(data_folder)\n",
    "\n",
    "    for path in paths:\n",
    "        # Extract the valid year from the filename\n",
    "        year = extract_year_from_filename(path.name)\n",
    "        if year is None:\n",
    "            continue\n",
    "\n",
    "        # Read the JSON file into a DataFrame\n",
    "        df = pd.read_json(path)\n",
    "\n",
    "        # Append the DataFrame to the existing DataFrame for the year, or create a new entry\n",
    "        if year in year_to_df:\n",
    "            year_to_df[year] = pd.concat(\n",
    "                [year_to_df[year], df], ignore_index=True)\n",
    "        else:\n",
    "            year_to_df[year] = df\n",
    "\n",
    "    return year_to_df"
   ]
  },
  {
   "cell_type": "code",
   "execution_count": null,
   "metadata": {},
   "outputs": [],
   "source": [
    "streaming_history = extract_streaming_history(Path(\"streaming_history\"))"
   ]
  },
  {
   "cell_type": "markdown",
   "metadata": {},
   "source": [
    "For this excercise I'm going to only include music from my history that I've considered 'played'. To do so I'll filter the data here instead of adding a column in my Database that differentiates between played & unplayed.\n",
    "\n",
    "In a real-life scenerio I'm more hesitant to throw away information but I didn't intend to look at unplayed tracks and it wouldn't have been wasted space on my db :)"
   ]
  },
  {
   "cell_type": "code",
   "execution_count": null,
   "metadata": {},
   "outputs": [],
   "source": [
    "# | export\n",
    "# |hide\n",
    "def clean_streaming_history(\n",
    "    streaming_history,  # Dictionary containing DataFrames for each year\n",
    "    # Minimum percentage of the song that must be played to be included in the analysis\n",
    "    min_percent_played: float = 0.9,\n",
    ") -> pd.DataFrame:  # Streaming History DataFrame\n",
    "    \"\"\"\n",
    "    Clean the raw streaming history data, standardize column names,\n",
    "    remove podcast data, remove songs that were not played to completion\n",
    "    \"\"\"\n",
    "    clean_streaming_history = pd.DataFrame()\n",
    "    for k in streaming_history.keys():\n",
    "        clean_streaming_history = pd.concat(\n",
    "            [clean_streaming_history, streaming_history[k]], ignore_index=True\n",
    "        )\n",
    "\n",
    "    clean_streaming_history[\"ts\"] = pd.to_datetime(\n",
    "        clean_streaming_history[\"ts\"], utc=True\n",
    "    )\n",
    "    clean_streaming_history = clean_streaming_history.sort_values(\"ts\").reset_index(\n",
    "        drop=True\n",
    "    )\n",
    "\n",
    "    # Adding Data Fields for ease of use\n",
    "    clean_streaming_history[\"month\"] = clean_streaming_history[\"ts\"].dt.month\n",
    "    clean_streaming_history[\"year\"] = clean_streaming_history[\"ts\"].dt.year\n",
    "\n",
    "    clean_streaming_history = clean_streaming_history.rename(\n",
    "        columns={\n",
    "            \"master_metadata_track_name\": \"song\",\n",
    "            \"master_metadata_album_artist_name\": \"artist\",\n",
    "            \"master_metadata_album_album_name\": \"album\",\n",
    "            \"spotify_track_uri\": \"URI\",\n",
    "        }\n",
    "    )\n",
    "\n",
    "    # Remove anything that's not a song\n",
    "    clean_streaming_history = clean_streaming_history[\n",
    "        ~clean_streaming_history.URI.isna()\n",
    "    ]\n",
    "\n",
    "    # Extract the track_id\n",
    "    clean_streaming_history[\"track_id\"] = [\n",
    "        uri.replace(\"spotify:track:\", \"\") for uri in clean_streaming_history[\"URI\"]\n",
    "    ]\n",
    "\n",
    "    # Approixmate the song duration, add to the dataframe\n",
    "    approximate_durations = (\n",
    "        clean_streaming_history.loc[\n",
    "            clean_streaming_history.reason_end == \"trackdone\", [\"track_id\", \"ms_played\"]\n",
    "        ]\n",
    "        .groupby(\"track_id\")[\"ms_played\"]\n",
    "        .agg(lambda x: x.mode()[0])\n",
    "        .reset_index()\n",
    "    )\n",
    "    approximate_durations = approximate_durations.rename(\n",
    "        columns={\"ms_played\": \"duration\"}\n",
    "    )\n",
    "    clean_streaming_history = clean_streaming_history.merge(\n",
    "        approximate_durations, on=\"track_id\", how=\"left\"\n",
    "    )\n",
    "    clean_streaming_history = clean_streaming_history[\n",
    "        ~clean_streaming_history.duration.isna()\n",
    "    ].reset_index(drop=True)\n",
    "\n",
    "    # Adding percent was played and filtering by the given value\n",
    "    clean_streaming_history[\"percent_played\"] = clean_streaming_history.apply(\n",
    "        lambda row: row[\"ms_played\"] / row[\"duration\"] if row[\"duration\"] != 0 else 0,\n",
    "        axis=1,\n",
    "    )\n",
    "\n",
    "    clean_streaming_history = clean_streaming_history[\n",
    "        clean_streaming_history.percent_played >= min_percent_played\n",
    "    ].reset_index(drop=True)\n",
    "\n",
    "    return clean_streaming_history"
   ]
  },
  {
   "cell_type": "markdown",
   "metadata": {},
   "source": [
    "Gonna use a cutoff of 70% played"
   ]
  },
  {
   "cell_type": "code",
   "execution_count": null,
   "metadata": {},
   "outputs": [
    {
     "data": {
      "text/html": [
       "<div>\n",
       "<style scoped>\n",
       "    .dataframe tbody tr th:only-of-type {\n",
       "        vertical-align: middle;\n",
       "    }\n",
       "\n",
       "    .dataframe tbody tr th {\n",
       "        vertical-align: top;\n",
       "    }\n",
       "\n",
       "    .dataframe thead th {\n",
       "        text-align: right;\n",
       "    }\n",
       "</style>\n",
       "<table border=\"1\" class=\"dataframe\">\n",
       "  <thead>\n",
       "    <tr style=\"text-align: right;\">\n",
       "      <th></th>\n",
       "      <th>ts</th>\n",
       "      <th>username</th>\n",
       "      <th>platform</th>\n",
       "      <th>ms_played</th>\n",
       "      <th>conn_country</th>\n",
       "      <th>ip_addr_decrypted</th>\n",
       "      <th>user_agent_decrypted</th>\n",
       "      <th>song</th>\n",
       "      <th>artist</th>\n",
       "      <th>album</th>\n",
       "      <th>URI</th>\n",
       "      <th>episode_name</th>\n",
       "      <th>episode_show_name</th>\n",
       "      <th>spotify_episode_uri</th>\n",
       "      <th>reason_start</th>\n",
       "      <th>reason_end</th>\n",
       "      <th>shuffle</th>\n",
       "      <th>skipped</th>\n",
       "      <th>offline</th>\n",
       "      <th>offline_timestamp</th>\n",
       "      <th>incognito_mode</th>\n",
       "      <th>month</th>\n",
       "      <th>year</th>\n",
       "      <th>track_id</th>\n",
       "      <th>duration</th>\n",
       "      <th>percent_played</th>\n",
       "    </tr>\n",
       "  </thead>\n",
       "  <tbody>\n",
       "    <tr>\n",
       "      <th>0</th>\n",
       "      <td>2014-09-25 10:26:51+00:00</td>\n",
       "      <td>1241589622</td>\n",
       "      <td>iOS 8.0 (iPad2,5)</td>\n",
       "      <td>278386</td>\n",
       "      <td>US</td>\n",
       "      <td>98.85.37.41</td>\n",
       "      <td>unknown</td>\n",
       "      <td>Ambitionz Az A Ridah</td>\n",
       "      <td>2Pac</td>\n",
       "      <td>All Eyez On Me</td>\n",
       "      <td>spotify:track:3ssX20QT5c3nA9wk78V1LQ</td>\n",
       "      <td>NaN</td>\n",
       "      <td>NaN</td>\n",
       "      <td>NaN</td>\n",
       "      <td>clickrow</td>\n",
       "      <td>trackdone</td>\n",
       "      <td>False</td>\n",
       "      <td>False</td>\n",
       "      <td>False</td>\n",
       "      <td>0.0</td>\n",
       "      <td>False</td>\n",
       "      <td>9</td>\n",
       "      <td>2014</td>\n",
       "      <td>3ssX20QT5c3nA9wk78V1LQ</td>\n",
       "      <td>278386.0</td>\n",
       "      <td>1.0</td>\n",
       "    </tr>\n",
       "    <tr>\n",
       "      <th>1</th>\n",
       "      <td>2014-09-25 20:40:44+00:00</td>\n",
       "      <td>1241589622</td>\n",
       "      <td>iOS 8.0 (iPad2,5)</td>\n",
       "      <td>278386</td>\n",
       "      <td>US</td>\n",
       "      <td>98.85.37.41</td>\n",
       "      <td>unknown</td>\n",
       "      <td>Ambitionz Az A Ridah</td>\n",
       "      <td>2Pac</td>\n",
       "      <td>All Eyez On Me</td>\n",
       "      <td>spotify:track:3ssX20QT5c3nA9wk78V1LQ</td>\n",
       "      <td>NaN</td>\n",
       "      <td>NaN</td>\n",
       "      <td>NaN</td>\n",
       "      <td>clickrow</td>\n",
       "      <td>trackdone</td>\n",
       "      <td>False</td>\n",
       "      <td>False</td>\n",
       "      <td>False</td>\n",
       "      <td>0.0</td>\n",
       "      <td>False</td>\n",
       "      <td>9</td>\n",
       "      <td>2014</td>\n",
       "      <td>3ssX20QT5c3nA9wk78V1LQ</td>\n",
       "      <td>278386.0</td>\n",
       "      <td>1.0</td>\n",
       "    </tr>\n",
       "  </tbody>\n",
       "</table>\n",
       "</div>"
      ],
      "text/plain": [
       "                         ts    username           platform  ms_played conn_country ip_addr_decrypted user_agent_decrypted                  song artist           album                                   URI episode_name episode_show_name spotify_episode_uri reason_start reason_end  shuffle skipped offline  offline_timestamp  incognito_mode  month  year                track_id  duration  percent_played\n",
       "0 2014-09-25 10:26:51+00:00  1241589622  iOS 8.0 (iPad2,5)     278386           US       98.85.37.41              unknown  Ambitionz Az A Ridah   2Pac  All Eyez On Me  spotify:track:3ssX20QT5c3nA9wk78V1LQ          NaN               NaN                 NaN     clickrow  trackdone    False   False   False                0.0           False      9  2014  3ssX20QT5c3nA9wk78V1LQ  278386.0             1.0\n",
       "1 2014-09-25 20:40:44+00:00  1241589622  iOS 8.0 (iPad2,5)     278386           US       98.85.37.41              unknown  Ambitionz Az A Ridah   2Pac  All Eyez On Me  spotify:track:3ssX20QT5c3nA9wk78V1LQ          NaN               NaN                 NaN     clickrow  trackdone    False   False   False                0.0           False      9  2014  3ssX20QT5c3nA9wk78V1LQ  278386.0             1.0"
      ]
     },
     "execution_count": null,
     "metadata": {},
     "output_type": "execute_result"
    }
   ],
   "source": [
    "clean_history = clean_streaming_history(streaming_history, 0.7)\n",
    "clean_history.head(2)"
   ]
  },
  {
   "cell_type": "markdown",
   "metadata": {},
   "source": [
    "## Exploring Spotify API Data\n",
    "\n",
    "> Finding metadata that will enrich Spotify History"
   ]
  },
  {
   "cell_type": "code",
   "execution_count": null,
   "metadata": {},
   "outputs": [],
   "source": [
    "# |hide\n",
    "raw_track_metadata = {}\n",
    "raw_artist_metadata = {}\n",
    "raw_audio_features = {}\n",
    "track_metadata = {}\n",
    "artist_metadata = {}\n",
    "album_metadata = {}"
   ]
  },
  {
   "cell_type": "code",
   "execution_count": null,
   "metadata": {},
   "outputs": [],
   "source": [
    "sp = get_spotipy_obj()"
   ]
  },
  {
   "cell_type": "markdown",
   "metadata": {},
   "source": [
    "To explore the Spotify API I will be looking at metadata from 2 of my All-Time favorite songs:\n",
    "\n",
    "- Devil in A New Dress by Kanye West (1UGD3lW3tDmgZfAVDh6w7r)\n",
    "- 1 Train by A$AP Rocky (7AijU6oTPGmG64uWf63Qvc)"
   ]
  },
  {
   "cell_type": "code",
   "execution_count": null,
   "metadata": {},
   "outputs": [],
   "source": [
    "track_ids = [\"7AijU6oTPGmG64uWf63Qvc\", \"1UGD3lW3tDmgZfAVDh6w7r\"]\n",
    "tracks = sp.tracks(track_ids)[\"tracks\"]"
   ]
  },
  {
   "cell_type": "code",
   "execution_count": null,
   "metadata": {},
   "outputs": [],
   "source": [
    "# |hide\n",
    "current_track = 0\n",
    "train_1 = tracks[current_track]\n",
    "if train_1[\"id\"] not in raw_track_metadata:\n",
    "    raw_track_metadata[train_1[\"id\"]] = train_1"
   ]
  },
  {
   "cell_type": "code",
   "execution_count": null,
   "metadata": {},
   "outputs": [
    {
     "data": {
      "text/plain": [
       "['album',\n",
       " 'artists',\n",
       " 'available_markets',\n",
       " 'disc_number',\n",
       " 'duration_ms',\n",
       " 'explicit',\n",
       " 'external_ids',\n",
       " 'external_urls',\n",
       " 'href',\n",
       " 'id',\n",
       " 'is_local',\n",
       " 'name',\n",
       " 'popularity',\n",
       " 'preview_url',\n",
       " 'track_number',\n",
       " 'type',\n",
       " 'uri']"
      ]
     },
     "execution_count": null,
     "metadata": {},
     "output_type": "execute_result"
    }
   ],
   "source": [
    "# |echo: false\n",
    "list(raw_track_metadata[train_1[\"id\"]].keys())"
   ]
  },
  {
   "cell_type": "markdown",
   "metadata": {},
   "source": [
    "#### Genres\n",
    "\n",
    "> Standardizing Genres"
   ]
  },
  {
   "cell_type": "markdown",
   "metadata": {},
   "source": [
    "Spotify provides genres at the Artist level and these genres can be all over the place. Let's take a look at some examples"
   ]
  },
  {
   "cell_type": "markdown",
   "metadata": {},
   "source": [
    "> Jay-Z"
   ]
  },
  {
   "cell_type": "code",
   "execution_count": null,
   "metadata": {},
   "outputs": [],
   "source": [
    "jay = sp.artist(\"3nFkdlSjzX9mRTtwJOzDYB\")"
   ]
  },
  {
   "cell_type": "code",
   "execution_count": null,
   "metadata": {},
   "outputs": [
    {
     "data": {
      "text/plain": [
       "['east coast hip hop', 'gangster rap', 'hip hop', 'pop rap', 'rap']"
      ]
     },
     "execution_count": null,
     "metadata": {},
     "output_type": "execute_result"
    }
   ],
   "source": [
    "jay[\"genres\"]"
   ]
  },
  {
   "cell_type": "markdown",
   "metadata": {},
   "source": [
    "Jay-z is associated with 5 genres! When I think about Jay-Z I think East Coast Hip Hip but should that be his main genre?\n",
    "\n",
    "I have 2 things 2 consider here:\n",
    "\n",
    "- How to bucket artist into broad groups (rappers vs. rock stars)\n",
    "- And how to bucket them into the sub-genres that I associate with them (east coast hip hop vs. west coast hip hop)\n",
    "\n",
    "Let's take a look at 2 more examples:"
   ]
  },
  {
   "cell_type": "markdown",
   "metadata": {},
   "source": [
    "> Pink Floyd"
   ]
  },
  {
   "cell_type": "code",
   "execution_count": null,
   "metadata": {},
   "outputs": [],
   "source": [
    "pink = sp.artist(\"0k17h0D3J5VfsdmQ1iZtE9\")"
   ]
  },
  {
   "cell_type": "code",
   "execution_count": null,
   "metadata": {},
   "outputs": [
    {
     "data": {
      "text/plain": [
       "['album rock',\n",
       " 'art rock',\n",
       " 'classic rock',\n",
       " 'progressive rock',\n",
       " 'psychedelic rock',\n",
       " 'rock',\n",
       " 'symphonic rock']"
      ]
     },
     "execution_count": null,
     "metadata": {},
     "output_type": "execute_result"
    }
   ],
   "source": [
    "pink[\"genres\"]"
   ]
  },
  {
   "cell_type": "markdown",
   "metadata": {},
   "source": [
    "> Khruangbin"
   ]
  },
  {
   "cell_type": "code",
   "execution_count": null,
   "metadata": {},
   "outputs": [],
   "source": [
    "khruangbin = sp.artist(\"2mVVjNmdjXZZDvhgQWiakk\")"
   ]
  },
  {
   "cell_type": "code",
   "execution_count": null,
   "metadata": {},
   "outputs": [
    {
     "data": {
      "text/plain": [
       "['indie soul', 'neo-psychedelic']"
      ]
     },
     "execution_count": null,
     "metadata": {},
     "output_type": "execute_result"
    }
   ],
   "source": [
    "khruangbin[\"genres\"]"
   ]
  },
  {
   "cell_type": "markdown",
   "metadata": {},
   "source": [
    "In the case of Pink Floyd the genres that I want to associate with them is in the Spotify Response (Rock and Classic Rock). However, Khruangbin is a completly different story, I think they should be Indie.\n",
    "\n",
    "What I noticed looking through the data is that certain genres--like rap--came through well in the Spotify data while others--like indie--did not. My goal is paint a picture of my spotify history as I see it. If certain genre's aren't being mapped how I envision it's going to mess with the visualizations.\n",
    "\n",
    "In an ideal world I would have created a AI model or something similar to map the genres programmatically. However, I encountered this issue early in the development process. Perfection is the enemy of progress. My goal is to make a website that displays my data. Not to build an AI model :)"
   ]
  },
  {
   "cell_type": "code",
   "execution_count": null,
   "metadata": {},
   "outputs": [],
   "source": [
    "genre_mapping = pd.read_csv(\"genre_matching.csv\")"
   ]
  },
  {
   "cell_type": "code",
   "execution_count": null,
   "metadata": {},
   "outputs": [],
   "source": [
    "# |hide\n",
    "genre_mapping[\"genres\"] = genre_mapping[\"genres\"].str.lower().str.strip()\n",
    "genre_mapping[\"main_genre\"] = genre_mapping[\"main_genre\"].str.lower().str.strip()\n",
    "genre_mapping[\"secondary_genre\"] = (\n",
    "    genre_mapping[\"secondary_genre\"].str.lower().str.strip()\n",
    ")"
   ]
  },
  {
   "cell_type": "markdown",
   "metadata": {},
   "source": [
    "Since I didn't want to go through all the genres (there are ≈ 1800) I went through top 300 or so and wrote a regex to match others based on certain keywords"
   ]
  },
  {
   "cell_type": "code",
   "execution_count": null,
   "metadata": {},
   "outputs": [],
   "source": [
    "# |code-fold: true\n",
    "def consolidate_main_genre(genre: str):\n",
    "    if re.search(r\"\\brap\\b\", genre) or re.search(r\"\\bhip hop\\b\", genre):\n",
    "        return \"rap\"\n",
    "    elif re.search(r\"\\brock\\b\", genre):\n",
    "        return \"rock\"\n",
    "    elif re.search(r\"\\bsoul\\b\", genre):\n",
    "        return \"soul\"\n",
    "    elif re.search(r\"\\bpop\\b\", genre):\n",
    "        return \"pop\"\n",
    "    elif re.search(r\"\\bcountry\\b\", genre):\n",
    "        return \"country\"\n",
    "    elif re.search(\n",
    "        r\"\\bjazz\\b|\\binstrumental\\b|\\bblues\\b|\\bclassical\\b|\\blo-fi\\b|\\blofi\\b|\\bambient\\b\",\n",
    "        genre,\n",
    "    ):\n",
    "        return \"focus\""
   ]
  },
  {
   "cell_type": "code",
   "execution_count": null,
   "metadata": {},
   "outputs": [],
   "source": [
    "possible_genres = genre_mapping[genre_mapping.genres.isin(jay[\"genres\"])]"
   ]
  },
  {
   "cell_type": "code",
   "execution_count": null,
   "metadata": {},
   "outputs": [
    {
     "data": {
      "text/html": [
       "<div>\n",
       "<style scoped>\n",
       "    .dataframe tbody tr th:only-of-type {\n",
       "        vertical-align: middle;\n",
       "    }\n",
       "\n",
       "    .dataframe tbody tr th {\n",
       "        vertical-align: top;\n",
       "    }\n",
       "\n",
       "    .dataframe thead th {\n",
       "        text-align: right;\n",
       "    }\n",
       "</style>\n",
       "<table border=\"1\" class=\"dataframe\">\n",
       "  <thead>\n",
       "    <tr style=\"text-align: right;\">\n",
       "      <th></th>\n",
       "      <th>genres</th>\n",
       "      <th>main_genre</th>\n",
       "      <th>secondary_genre</th>\n",
       "      <th>hours_played</th>\n",
       "    </tr>\n",
       "  </thead>\n",
       "  <tbody>\n",
       "    <tr>\n",
       "      <th>0</th>\n",
       "      <td>rap</td>\n",
       "      <td>rap</td>\n",
       "      <td>NaN</td>\n",
       "      <td>4187.657624</td>\n",
       "    </tr>\n",
       "    <tr>\n",
       "      <th>1</th>\n",
       "      <td>hip hop</td>\n",
       "      <td>rap</td>\n",
       "      <td>NaN</td>\n",
       "      <td>3636.079708</td>\n",
       "    </tr>\n",
       "    <tr>\n",
       "      <th>3</th>\n",
       "      <td>pop rap</td>\n",
       "      <td>rap</td>\n",
       "      <td>NaN</td>\n",
       "      <td>1747.090661</td>\n",
       "    </tr>\n",
       "    <tr>\n",
       "      <th>8</th>\n",
       "      <td>gangster rap</td>\n",
       "      <td>rap</td>\n",
       "      <td>NaN</td>\n",
       "      <td>732.280244</td>\n",
       "    </tr>\n",
       "    <tr>\n",
       "      <th>13</th>\n",
       "      <td>east coast hip hop</td>\n",
       "      <td>rap</td>\n",
       "      <td>east coast hip hop</td>\n",
       "      <td>617.484491</td>\n",
       "    </tr>\n",
       "  </tbody>\n",
       "</table>\n",
       "</div>"
      ],
      "text/plain": [
       "                genres main_genre     secondary_genre  hours_played\n",
       "0                  rap        rap                 NaN   4187.657624\n",
       "1              hip hop        rap                 NaN   3636.079708\n",
       "3              pop rap        rap                 NaN   1747.090661\n",
       "8         gangster rap        rap                 NaN    732.280244\n",
       "13  east coast hip hop        rap  east coast hip hop    617.484491"
      ]
     },
     "execution_count": null,
     "metadata": {},
     "output_type": "execute_result"
    }
   ],
   "source": [
    "possible_genres"
   ]
  },
  {
   "cell_type": "markdown",
   "metadata": {},
   "source": [
    "<p>Putting it all together</p>"
   ]
  },
  {
   "cell_type": "code",
   "execution_count": null,
   "metadata": {},
   "outputs": [],
   "source": [
    "# |code-fold: true\n",
    "def consolidate_genres(genres: List[str]) -> Dict:\n",
    "    possible_genres = genre_mapping[genre_mapping.genres.isin(genres)]\n",
    "    main_genre = \"\"\n",
    "    secondary_genre = \"\"\n",
    "    if possible_genres.shape[0] > 0:\n",
    "        if possible_genres[\"main_genre\"].dropna().shape[0] > 0:\n",
    "            main_genre = possible_genres[\"main_genre\"].dropna().iloc[0]\n",
    "        else:\n",
    "            main_genre = consolidate_main_genre(\n",
    "                possible_genres[\"genres\"].dropna().iloc[0]\n",
    "            )\n",
    "\n",
    "        if possible_genres[\"secondary_genre\"].dropna().shape[0] > 0:\n",
    "            secondary_genre = possible_genres[\"secondary_genre\"].dropna().iloc[0]\n",
    "    return {\n",
    "        \"main_genre\": main_genre,\n",
    "        \"secondary_genre\": secondary_genre,\n",
    "        \"genres\": \";;\".join(genres),\n",
    "    }"
   ]
  },
  {
   "cell_type": "code",
   "execution_count": null,
   "metadata": {},
   "outputs": [
    {
     "data": {
      "text/plain": [
       "{'main_genre': 'rap',\n",
       " 'secondary_genre': 'east coast hip hop',\n",
       " 'genres': 'east coast hip hop;;gangster rap;;hip hop;;pop rap;;rap'}"
      ]
     },
     "execution_count": null,
     "metadata": {},
     "output_type": "execute_result"
    }
   ],
   "source": [
    "consolidate_genres(jay[\"genres\"])"
   ]
  },
  {
   "cell_type": "markdown",
   "metadata": {},
   "source": [
    "While this is a good start, there's still one scenerio that isn't being accounted for:\n",
    "\n",
    "- What if the artist API request doens't return ANY genres?\n",
    "\n",
    "Let's take a look at Santa Esmaralda"
   ]
  },
  {
   "cell_type": "code",
   "execution_count": null,
   "metadata": {},
   "outputs": [
    {
     "data": {
      "text/plain": [
       "[]"
      ]
     },
     "execution_count": null,
     "metadata": {},
     "output_type": "execute_result"
    }
   ],
   "source": [
    "santa = sp.artist(\"0iGmfKLgK5eSMgHp8YgLnS\")\n",
    "santa[\"genres\"]"
   ]
  },
  {
   "cell_type": "markdown",
   "metadata": {},
   "source": [
    "Santa doesn't have any genres!!! \n",
    "<br><br>\n",
    "The solution here is simple. While Santa doesn't have any genres himself, spotify provides a endpoint for related artist. I can find out the genres of his related artist and use this as a way to approximate Santa's genre"
   ]
  },
  {
   "cell_type": "code",
   "execution_count": null,
   "metadata": {},
   "outputs": [],
   "source": [
    "if not santa.get(\"genres\"):\n",
    "    related_artists = sp.artist_related_artists(\"0iGmfKLgK5eSMgHp8YgLnS\")\n",
    "    related_genres = {}\n",
    "    for art in related_artists[\"artists\"]:\n",
    "        if art.get(\"genres\"):\n",
    "            for genre in art[\"genres\"]:\n",
    "                if genre not in related_genres:\n",
    "                    related_genres[genre] = 0\n",
    "                related_genres[genre] += 1"
   ]
  },
  {
   "cell_type": "code",
   "execution_count": null,
   "metadata": {},
   "outputs": [
    {
     "data": {
      "text/plain": [
       "{'disco': 13,\n",
       " 'hi-nrg': 5,\n",
       " 'italo disco': 2,\n",
       " 'australian dance': 1,\n",
       " 'classic uk pop': 1,\n",
       " 'minneapolis sound': 1,\n",
       " 'synthpop': 1,\n",
       " 'diva house': 1,\n",
       " 'motown': 2,\n",
       " 'post-disco': 2,\n",
       " 'quiet storm': 1,\n",
       " 'deep disco': 1,\n",
       " 'vintage french electronic': 1}"
      ]
     },
     "execution_count": null,
     "metadata": {},
     "output_type": "execute_result"
    }
   ],
   "source": [
    "# |echo: false\n",
    "related_genres"
   ]
  },
  {
   "cell_type": "markdown",
   "metadata": {},
   "source": [
    "Consolidating the genres for Santa"
   ]
  },
  {
   "cell_type": "code",
   "execution_count": null,
   "metadata": {},
   "outputs": [],
   "source": [
    "related_genres_list = list(related_genres.items())"
   ]
  },
  {
   "cell_type": "code",
   "execution_count": null,
   "metadata": {},
   "outputs": [],
   "source": [
    "related_genres_list.sort(key=lambda x: x[1], reverse=True)"
   ]
  },
  {
   "cell_type": "code",
   "execution_count": null,
   "metadata": {},
   "outputs": [],
   "source": [
    "related_genres_list = [x[0] for x in related_genres_list]"
   ]
  },
  {
   "cell_type": "code",
   "execution_count": null,
   "metadata": {},
   "outputs": [
    {
     "data": {
      "text/plain": [
       "{'main_genre': 'soul',\n",
       " 'secondary_genre': 'dance',\n",
       " 'genres': 'disco;;hi-nrg;;italo disco;;motown;;post-disco'}"
      ]
     },
     "execution_count": null,
     "metadata": {},
     "output_type": "execute_result"
    }
   ],
   "source": [
    "consolidate_genres(related_genres_list[:5])"
   ]
  },
  {
   "cell_type": "markdown",
   "metadata": {},
   "source": [
    "> Proceduralizing"
   ]
  },
  {
   "cell_type": "code",
   "execution_count": null,
   "metadata": {},
   "outputs": [],
   "source": [
    "# |code-fold: true\n",
    "def get_artist_genres(artist) -> Dict[str, int]:\n",
    "    if artist.get(\"genres\"):\n",
    "        consolidated_genres = consolidate_genres(artist[\"genres\"])\n",
    "        return {\n",
    "            \"genres\": consolidated_genres[\"genres\"],\n",
    "            \"main_genre\": (\n",
    "                consolidated_genres[\"main_genre\"]\n",
    "                if consolidated_genres[\"main_genre\"]\n",
    "                else consolidated_genres[\"genres\"][-1]\n",
    "            ),\n",
    "            \"secondary_genre\": (\n",
    "                consolidated_genres[\"secondary_genre\"]\n",
    "                if consolidated_genres[\"secondary_genre\"]\n",
    "                else consolidated_genres[\"genres\"].split(\";;\")[0]\n",
    "            ),\n",
    "        }\n",
    "    else:\n",
    "        sp = get_spotipy_obj()\n",
    "        related_artists = sp.artist_related_artists(artist[\"id\"])\n",
    "        related_genres = {}\n",
    "        for art in related_artists[\"artists\"]:\n",
    "            if art.get(\"genres\"):\n",
    "                for genre in art[\"genres\"]:\n",
    "                    if genre not in related_genres:\n",
    "                        related_genres[genre] = 0\n",
    "                    related_genres[genre] += 1\n",
    "        related_genres_list = list(related_genres.items())\n",
    "        related_genres_list.sort(key=lambda x: x[1], reverse=True)\n",
    "        related_genres_list = [x[0] for x in related_genres_list]\n",
    "        return consolidate_genres(related_genres_list[:5])"
   ]
  },
  {
   "cell_type": "code",
   "execution_count": null,
   "metadata": {},
   "outputs": [
    {
     "data": {
      "text/plain": [
       "{'genres': 'east coast hip hop;;gangster rap;;hip hop;;pop rap;;rap',\n",
       " 'main_genre': 'rap',\n",
       " 'secondary_genre': 'east coast hip hop'}"
      ]
     },
     "execution_count": null,
     "metadata": {},
     "output_type": "execute_result"
    }
   ],
   "source": [
    "get_artist_genres(jay)"
   ]
  },
  {
   "cell_type": "markdown",
   "metadata": {},
   "source": [
    "#### Artist"
   ]
  },
  {
   "cell_type": "code",
   "execution_count": null,
   "metadata": {},
   "outputs": [
    {
     "data": {
      "text/plain": [
       "['external_urls',\n",
       " 'followers',\n",
       " 'genres',\n",
       " 'href',\n",
       " 'id',\n",
       " 'images',\n",
       " 'name',\n",
       " 'popularity',\n",
       " 'type',\n",
       " 'uri']"
      ]
     },
     "execution_count": null,
     "metadata": {},
     "output_type": "execute_result"
    }
   ],
   "source": [
    "# |echo: false\n",
    "list(jay.keys())"
   ]
  },
  {
   "cell_type": "markdown",
   "metadata": {},
   "source": [
    "Getting metadata for main artist\n"
   ]
  },
  {
   "cell_type": "code",
   "execution_count": null,
   "metadata": {},
   "outputs": [],
   "source": [
    "# |code-fold: true\n",
    "def get_artist_data(artist_id: str, raw_artist_metadata: Dict = {}) -> Dict:\n",
    "    sp = get_spotipy_obj()\n",
    "    artist = sp.artist(artist_id)\n",
    "    artist_genres = get_artist_genres(artist)\n",
    "    if artist[\"id\"] not in raw_artist_metadata:\n",
    "        raw_artist_metadata[artist[\"id\"]] = artist\n",
    "    return {\n",
    "        \"id\": artist[\"id\"],\n",
    "        \"name\": artist[\"name\"],\n",
    "        \"external_url\": artist[\"external_urls\"].get(\"spotify\"),\n",
    "        \"followers\": artist[\"followers\"][\"total\"],\n",
    "        \"genres\": artist_genres[\"genres\"],\n",
    "        \"href\": artist[\"href\"],\n",
    "        \"images\": json.dumps(artist[\"images\"]),\n",
    "        \"popularity\": artist[\"popularity\"],\n",
    "        \"type\": artist[\"type\"],\n",
    "        \"uri\": artist[\"uri\"],\n",
    "        \"main_genre\": artist_genres[\"main_genre\"],\n",
    "        \"secondary_genre\": artist_genres[\"secondary_genre\"],\n",
    "    }"
   ]
  },
  {
   "cell_type": "markdown",
   "metadata": {},
   "source": [
    "Getting all artist associated with a track"
   ]
  },
  {
   "cell_type": "code",
   "execution_count": null,
   "metadata": {},
   "outputs": [],
   "source": [
    "# |code-fold: true\n",
    "def get_track_artists(\n",
    "    track, artist_metadata: Dict = {}, raw_artist_metadata: Dict = {}\n",
    ") -> Dict:\n",
    "    main_artist = None\n",
    "    artist_names = []\n",
    "    artist_ids = []\n",
    "    for i in range(len(track[\"artists\"])):\n",
    "        id = track[\"artists\"][i][\"id\"]\n",
    "        if artist_metadata.get(id):\n",
    "            artist = artist_metadata[id]\n",
    "        else:\n",
    "            artist = get_artist_data(id, raw_artist_metadata)\n",
    "            artist_metadata[id] = artist\n",
    "        if i == 0:\n",
    "            main_artist = artist\n",
    "            artist_names.append(artist[\"name\"])\n",
    "            artist_ids.append(artist[\"id\"])\n",
    "        else:\n",
    "            artist_names.append(artist[\"name\"])\n",
    "            artist_ids.append(artist[\"id\"])\n",
    "    return {\n",
    "        \"main_artist_id\": main_artist[\"id\"],\n",
    "        \"main_artist_name\": main_artist[\"name\"],\n",
    "        \"genres\": main_artist[\"genres\"],\n",
    "        \"main_genre\": main_artist[\"main_genre\"],\n",
    "        \"secondary_genre\": main_artist[\"secondary_genre\"],\n",
    "        \"main_artist_image\": main_artist[\"images\"],\n",
    "        \"main_artist_url\": main_artist[\"external_url\"],\n",
    "        \"main_artist_uri\": main_artist[\"uri\"],\n",
    "        \"artist_names\": \";;\".join(artist_names),\n",
    "        \"artist_ids\": \";;\".join(artist_ids),\n",
    "    }"
   ]
  },
  {
   "cell_type": "markdown",
   "metadata": {},
   "source": [
    "#### Track Audio Features\n",
    "\n",
    "> Enriching Tracks with Audio Features"
   ]
  },
  {
   "cell_type": "code",
   "execution_count": null,
   "metadata": {},
   "outputs": [],
   "source": [
    "audio_features = sp.audio_features(track_ids)"
   ]
  },
  {
   "cell_type": "code",
   "execution_count": null,
   "metadata": {},
   "outputs": [],
   "source": [
    "TRACK_FEATURE_COLUMNS = [\n",
    "    \"danceability\",\n",
    "    \"energy\",\n",
    "    \"key\",\n",
    "    \"loudness\",\n",
    "    \"mode\",\n",
    "    \"speechiness\",\n",
    "    \"acousticness\",\n",
    "    \"instrumentalness\",\n",
    "    \"liveness\",\n",
    "    \"valence\",\n",
    "    \"tempo\",\n",
    "    \"analysis_url\",\n",
    "    \"time_signature\",\n",
    "]"
   ]
  },
  {
   "cell_type": "code",
   "execution_count": null,
   "metadata": {},
   "outputs": [],
   "source": [
    "def get_track_features(track_features: Dict, raw_audio_features: Dict = {}) -> Dict:\n",
    "    if track_features[\"id\"] not in raw_audio_features:\n",
    "        raw_audio_features[track_features[\"id\"]] = track_features\n",
    "    return {k: track_features[k] for k in TRACK_FEATURE_COLUMNS}"
   ]
  },
  {
   "cell_type": "code",
   "execution_count": null,
   "metadata": {},
   "outputs": [],
   "source": [
    "train_1_features = get_track_features(audio_features[current_track], raw_audio_features)"
   ]
  },
  {
   "cell_type": "code",
   "execution_count": null,
   "metadata": {},
   "outputs": [
    {
     "data": {
      "text/plain": [
       "{'danceability': 0.622,\n",
       " 'energy': 0.872,\n",
       " 'key': 2,\n",
       " 'loudness': -3.403,\n",
       " 'mode': 1,\n",
       " 'speechiness': 0.332,\n",
       " 'acousticness': 0.349,\n",
       " 'instrumentalness': 0,\n",
       " 'liveness': 0.695,\n",
       " 'valence': 0.768,\n",
       " 'tempo': 83.568,\n",
       " 'analysis_url': 'https://api.spotify.com/v1/audio-analysis/7AijU6oTPGmG64uWf63Qvc',\n",
       " 'time_signature': 4}"
      ]
     },
     "execution_count": null,
     "metadata": {},
     "output_type": "execute_result"
    }
   ],
   "source": [
    "# |echo: false\n",
    "train_1_features"
   ]
  },
  {
   "cell_type": "markdown",
   "metadata": {},
   "source": [
    "#### Album Metadata\n",
    "\n",
    "> Key Data Points: Label, Popularity, Album Tracks, Release Date\n"
   ]
  },
  {
   "cell_type": "code",
   "execution_count": null,
   "metadata": {},
   "outputs": [
    {
     "data": {
      "text/plain": [
       "['album_type',\n",
       " 'artists',\n",
       " 'available_markets',\n",
       " 'external_urls',\n",
       " 'href',\n",
       " 'id',\n",
       " 'images',\n",
       " 'name',\n",
       " 'release_date',\n",
       " 'release_date_precision',\n",
       " 'total_tracks',\n",
       " 'type',\n",
       " 'uri']"
      ]
     },
     "execution_count": null,
     "metadata": {},
     "output_type": "execute_result"
    }
   ],
   "source": [
    "# |echo: false\n",
    "list(raw_track_metadata[train_1[\"id\"]][\"album\"].keys())"
   ]
  },
  {
   "cell_type": "markdown",
   "metadata": {},
   "source": [
    "Since I don't want all the metadata associated with the album, I'm going to extract only the metadata I want"
   ]
  },
  {
   "cell_type": "code",
   "execution_count": null,
   "metadata": {},
   "outputs": [],
   "source": [
    "# |code-fold: true\n",
    "def get_album_data(track, album_metadata: Dict[str, Dict]):\n",
    "    if track[\"album\"][\"id\"] in album_metadata:\n",
    "        return album_metadata[track[\"album\"][\"id\"]]\n",
    "    album = {\n",
    "        \"name\": track[\"album\"][\"name\"],\n",
    "        \"id\": track[\"album\"][\"id\"],\n",
    "        \"artist\": \";;\".join([artist[\"name\"] for artist in track[\"album\"][\"artists\"]]),\n",
    "        \"artist_id\": \";;\".join([artist[\"id\"] for artist in track[\"album\"][\"artists\"]]),\n",
    "        \"external_url\": track[\"album\"][\"external_urls\"].get(\"spotify\"),\n",
    "        \"href\": track[\"album\"][\"href\"],\n",
    "        \"images\": json.dumps(track[\"album\"][\"images\"]),\n",
    "        \"release_date\": track[\"album\"][\"release_date\"],\n",
    "        \"release_date_precision\": track[\"album\"][\"release_date_precision\"],\n",
    "        \"total_tracks\": track[\"album\"][\"total_tracks\"],\n",
    "        \"type\": track[\"album\"][\"type\"],\n",
    "        \"uri\": track[\"album\"][\"uri\"],\n",
    "    }\n",
    "    album_metadata[album[\"id\"]] = album\n",
    "    return album"
   ]
  },
  {
   "cell_type": "code",
   "execution_count": null,
   "metadata": {},
   "outputs": [],
   "source": [
    "train_1_album = get_album_data(train_1, album_metadata)"
   ]
  },
  {
   "cell_type": "code",
   "execution_count": null,
   "metadata": {},
   "outputs": [
    {
     "data": {
      "text/plain": [
       "{'name': 'LONG.LIVE.A$AP (Deluxe Version)',\n",
       " 'id': '1E1eyI5uGllppJZCxNoF9w',\n",
       " 'artist': 'A$AP Rocky',\n",
       " 'artist_id': '13ubrt8QOOCPljQ2FL1Kca',\n",
       " 'external_url': 'https://open.spotify.com/album/1E1eyI5uGllppJZCxNoF9w',\n",
       " 'href': 'https://api.spotify.com/v1/albums/1E1eyI5uGllppJZCxNoF9w',\n",
       " 'images': '[{\"height\": 640, \"url\": \"https://i.scdn.co/image/ab67616d0000b2733265ed162fa2dd5ec6434ee4\", \"width\": 640}, {\"height\": 300, \"url\": \"https://i.scdn.co/image/ab67616d00001e023265ed162fa2dd5ec6434ee4\", \"width\": 300}, {\"height\": 64, \"url\": \"https://i.scdn.co/image/ab67616d000048513265ed162fa2dd5ec6434ee4\", \"width\": 64}]',\n",
       " 'release_date': '2013-01-11',\n",
       " 'release_date_precision': 'day',\n",
       " 'total_tracks': 16,\n",
       " 'type': 'album',\n",
       " 'uri': 'spotify:album:1E1eyI5uGllppJZCxNoF9w'}"
      ]
     },
     "execution_count": null,
     "metadata": {},
     "output_type": "execute_result"
    }
   ],
   "source": [
    "train_1_album"
   ]
  },
  {
   "cell_type": "markdown",
   "metadata": {},
   "source": [
    "#### Track\n",
    "\n",
    "> Putting it all together"
   ]
  },
  {
   "cell_type": "markdown",
   "metadata": {},
   "source": [
    "Writing a funciton to get track data"
   ]
  },
  {
   "cell_type": "code",
   "execution_count": null,
   "metadata": {},
   "outputs": [],
   "source": [
    "# |code-fold: true\n",
    "def get_track_data(\n",
    "    track,\n",
    "    artist_metadata: Optional[Dict] = None,\n",
    "    raw_artist_metadata: Optional[Dict] = None,\n",
    "    audio_features: Optional[Dict] = None,\n",
    "    album_metadata: Optional[Dict] = {},\n",
    ") -> Dict:\n",
    "    album = get_album_data(track, album_metadata)\n",
    "    artists = get_track_artists(\n",
    "        track, artist_metadata=artist_metadata, raw_artist_metadata=raw_artist_metadata\n",
    "    )\n",
    "    if not audio_features:\n",
    "        audio_features = {k: None for k in TRACK_FEATURE_COLUMNS}\n",
    "    return {\n",
    "        \"id\": track[\"id\"],\n",
    "        \"name\": track[\"name\"],\n",
    "        \"artist\": artists[\"main_artist_name\"],\n",
    "        \"album\": album[\"name\"],\n",
    "        \"album_id\": album[\"id\"],\n",
    "        \"album_release_date\": album[\"release_date\"],\n",
    "        \"album_release_date_precision\": album[\"release_date_precision\"],\n",
    "        \"album_type\": album[\"type\"],\n",
    "        \"album_uri\": album[\"uri\"],\n",
    "        \"album_external_url\": album[\"external_url\"],\n",
    "        \"album_href\": album[\"href\"],\n",
    "        \"album_images\": album[\"images\"],\n",
    "        \"artist_id\": artists[\"main_artist_id\"],\n",
    "        \"artist_names\": artists[\"artist_names\"],\n",
    "        \"artist_ids\": artists[\"artist_ids\"],\n",
    "        \"artist_genres\": artists[\"genres\"],\n",
    "        \"artist_main_genre\": artists[\"main_genre\"],\n",
    "        \"artist_secondary_genre\": artists[\"secondary_genre\"],\n",
    "        \"artist_image\": artists[\"main_artist_image\"],\n",
    "        \"main_artist_url\": artists[\"main_artist_url\"],\n",
    "        \"main_artist_uri\": artists[\"main_artist_uri\"],\n",
    "        \"danceability\": audio_features[\"danceability\"],\n",
    "        \"energy\": audio_features[\"energy\"],\n",
    "        \"key\": audio_features[\"key\"],\n",
    "        \"loudness\": audio_features[\"loudness\"],\n",
    "        \"mode\": audio_features[\"mode\"],\n",
    "        \"speechiness\": audio_features[\"speechiness\"],\n",
    "        \"acousticness\": audio_features[\"acousticness\"],\n",
    "        \"instrumentalness\": audio_features[\"instrumentalness\"],\n",
    "        \"liveness\": audio_features[\"liveness\"],\n",
    "        \"valence\": audio_features[\"valence\"],\n",
    "        \"tempo\": audio_features[\"tempo\"],\n",
    "        \"analysis_url\": audio_features[\"analysis_url\"],\n",
    "        \"time_signature\": audio_features[\"time_signature\"],\n",
    "    }"
   ]
  },
  {
   "cell_type": "markdown",
   "metadata": {},
   "source": [
    "## Writing Batch Funcs"
   ]
  },
  {
   "cell_type": "code",
   "execution_count": null,
   "metadata": {},
   "outputs": [],
   "source": [
    "sample_ids = clean_history.track_id.unique()[:200]"
   ]
  },
  {
   "cell_type": "markdown",
   "metadata": {},
   "source": [
    "Writing custom function to get multiple tracks at once <br>\n",
    "<br>\n",
    "The spotipy lib seems to re-call the Spotify API immediatly after getting a 'retry-after' messages which Spotify doesn't seem to appreciate. Instead I wait for 5 minutes :)"
   ]
  },
  {
   "cell_type": "code",
   "execution_count": null,
   "metadata": {},
   "outputs": [],
   "source": [
    "# |code-fold: true\n",
    "def get_multiple_tracks(track_ids: List) -> List[Dict]:\n",
    "    def wait_for_rate_limit(response: requests.Response) -> None:\n",
    "        print()\n",
    "        print(\"-----------------\")\n",
    "        print(\"Waiting for\", response.headers.get(\"retry-after\"), \"seconds\")\n",
    "        time.sleep(int(response.headers.get(\"retry-after\")) + 300)\n",
    "\n",
    "    auth_manager = SpotifyClientCredentials()\n",
    "    track_ids = \",\".join(track_ids)\n",
    "    url = f\"https://api.spotify.com/v1/tracks?ids={track_ids}\"\n",
    "    headers = {\n",
    "        \"Authorization\": f\"Bearer {auth_manager.get_access_token(as_dict=False)}\"\n",
    "    }\n",
    "    response = requests.get(url, headers=headers)\n",
    "\n",
    "    if response.headers.get(\"retry-after\"):\n",
    "        wait_for_rate_limit(response)\n",
    "        response = requests.get(url, headers=headers)\n",
    "\n",
    "    return response.json()"
   ]
  },
  {
   "cell_type": "markdown",
   "metadata": {},
   "source": [
    "Putting everything together <br>\n",
    "<br>\n",
    "The following function will take a list of track ids and return a DataFrame with all the metadata for the tracks. To avoid rate limiting, the it'll will puase for 200 seconds every 1000 ids and respect retry-after messages #IJUSTNEEDSOMESPACE\n"
   ]
  },
  {
   "cell_type": "code",
   "execution_count": null,
   "metadata": {},
   "outputs": [],
   "source": [
    "# |code-fold: true\n",
    "def enrich_spotify_data(\n",
    "    track_ids: List[str],\n",
    "    track_metadata: Dict = {},\n",
    "    artist_metadata: Dict = {},\n",
    "    album_metadata: Dict = {},\n",
    "    audio_features: Dict = {},\n",
    "    raw_track_metadata: Dict = {},\n",
    "    raw_artist_metadata: Dict = {},\n",
    ") -> Dict:\n",
    "    sp = get_spotipy_obj()\n",
    "    BATCH_SIZE = 50\n",
    "    batch = []\n",
    "\n",
    "    for i in range(len(track_ids)):\n",
    "        track_id = track_ids[i]\n",
    "\n",
    "        if track_id in track_metadata:\n",
    "            continue\n",
    "\n",
    "        batch.append(track_id)\n",
    "\n",
    "        if len(batch) == BATCH_SIZE or i == len(track_ids) - 1:\n",
    "            tracks = sp.tracks(batch)[\"tracks\"]\n",
    "            audio_features_batch = sp.audio_features(batch)\n",
    "\n",
    "            for features in audio_features_batch:\n",
    "                if features:\n",
    "                    if features[\"id\"] not in audio_features:\n",
    "                        audio_features[features[\"id\"]] = features\n",
    "\n",
    "            for track in tracks:\n",
    "                if track[\"id\"] not in raw_track_metadata:\n",
    "                    raw_track_metadata[track[\"id\"]] = track\n",
    "                track_metadata[track[\"id\"]] = get_track_data(\n",
    "                    track,\n",
    "                    artist_metadata=artist_metadata,\n",
    "                    raw_artist_metadata=raw_artist_metadata,\n",
    "                    audio_features=(\n",
    "                        audio_features.get(track[\"id\"])\n",
    "                        if audio_features.get(track[\"id\"])\n",
    "                        else {k: None for k in TRACK_FEATURE_COLUMNS}\n",
    "                    ),\n",
    "                    album_metadata=album_metadata,\n",
    "                )\n",
    "\n",
    "            batch = []\n",
    "            if ((i + 1) % 1000) == 0:\n",
    "                print(\"Track\", i + 1, \"complete\")\n",
    "            time.sleep(200)\n",
    "\n",
    "    return {\n",
    "        \"track_metadata\": track_metadata,\n",
    "        \"artist_metadata\": artist_metadata,\n",
    "        \"album_metadata\": album_metadata,\n",
    "        \"audio_features\": audio_features,\n",
    "        \"raw_track_metadata\": raw_track_metadata,\n",
    "        \"raw_artist_metadata\": raw_artist_metadata,\n",
    "    }"
   ]
  },
  {
   "cell_type": "code",
   "execution_count": null,
   "metadata": {},
   "outputs": [],
   "source": [
    "# Enriching Data"
   ]
  },
  {
   "cell_type": "code",
   "execution_count": null,
   "metadata": {},
   "outputs": [],
   "source": [
    "track_ids = clean_history.track_id.unique()"
   ]
  },
  {
   "cell_type": "code",
   "execution_count": null,
   "metadata": {},
   "outputs": [],
   "source": [
    "# |hide\n",
    "def get_pickle_data(path: Path) -> Dict:\n",
    "    if path.exists():\n",
    "        with open(path, \"rb\") as f:\n",
    "            return pickle.load(f)\n",
    "    else:\n",
    "        return {}"
   ]
  },
  {
   "cell_type": "code",
   "execution_count": null,
   "metadata": {},
   "outputs": [],
   "source": [
    "# |hide\n",
    "track_metadata = get_pickle_data(Path(\"data/track_metadata.pkl\"))\n",
    "artist_metadata = get_pickle_data(Path(\"data/artist_metadata.pkl\"))\n",
    "album_metadata = get_pickle_data(Path(\"data/album_metadata.pkl\"))\n",
    "audio_features = get_pickle_data(Path(\"data/audio_features.pkl\"))\n",
    "raw_track_metadata = get_pickle_data(Path(\"data/raw_track_metadata.pkl\"))\n",
    "raw_artist_metadata = get_pickle_data(Path(\"data/raw_artist_metadata.pkl\"))"
   ]
  },
  {
   "cell_type": "code",
   "execution_count": null,
   "metadata": {},
   "outputs": [
    {
     "name": "stdout",
     "output_type": "stream",
     "text": [
      "Processing tracks 0 to 1000\n",
      "Processing tracks 1000 to 2000\n",
      "Processing tracks 2000 to 3000\n",
      "Processing tracks 3000 to 4000\n",
      "Processing tracks 4000 to 5000\n",
      "Processing tracks 5000 to 6000\n",
      "Processing tracks 6000 to 7000\n",
      "Processing tracks 7000 to 8000\n",
      "Processing tracks 8000 to 9000\n",
      "Processing tracks 9000 to 10000\n",
      "Processing tracks 10000 to 11000\n",
      "Processing tracks 11000 to 12000\n",
      "Processing tracks 12000 to 13000\n",
      "Processing tracks 13000 to 14000\n",
      "Processing tracks 14000 to 15000\n",
      "Processing tracks 15000 to 16000\n",
      "Processing tracks 16000 to 17000\n",
      "Processing tracks 17000 to 18000\n",
      "Processing tracks 18000 to 19000\n",
      "Processing tracks 19000 to 20000\n",
      "Processing tracks 20000 to 21000\n",
      "Processing tracks 21000 to 22000\n",
      "Processing tracks 22000 to 23000\n",
      "Processing tracks 23000 to 24000\n",
      "Processing tracks 24000 to 25000\n",
      "Processing tracks 25000 to 26000\n"
     ]
    }
   ],
   "source": [
    "# |output: false\n",
    "for i in range(0, len(track_ids), 1000):\n",
    "    print(\"Processing tracks\", i, \"to\", i + 1000)\n",
    "    end = min(i + 1000, len(track_ids))\n",
    "    data = enrich_spotify_data(\n",
    "        track_ids[i:end],\n",
    "        track_metadata=track_metadata,\n",
    "        artist_metadata=artist_metadata,\n",
    "        album_metadata=album_metadata,\n",
    "        audio_features=audio_features,\n",
    "        raw_track_metadata=raw_track_metadata,\n",
    "        raw_artist_metadata=raw_artist_metadata,\n",
    "    )\n",
    "    track_metadata = data[\"track_metadata\"]\n",
    "    artist_metadata = data[\"artist_metadata\"]\n",
    "    album_metadata = data[\"album_metadata\"]\n",
    "    audio_features = data[\"audio_features\"]\n",
    "    raw_track_metadata = data[\"raw_track_metadata\"]\n",
    "    raw_artist_metadata = data[\"raw_artist_metadata\"]"
   ]
  },
  {
   "cell_type": "markdown",
   "metadata": {},
   "source": [
    "Saving the data"
   ]
  },
  {
   "cell_type": "code",
   "execution_count": null,
   "metadata": {},
   "outputs": [],
   "source": [
    "# | hide\n",
    "def save_pickle_data(data: Dict, path: Path) -> None:\n",
    "    with open(path, \"wb\") as f:\n",
    "        pickle.dump(data, f)"
   ]
  },
  {
   "cell_type": "code",
   "execution_count": null,
   "metadata": {},
   "outputs": [],
   "source": [
    "# | hide\n",
    "save_pickle_data(track_metadata, Path(\"data/track_metadata.pkl\"))\n",
    "save_pickle_data(artist_metadata, Path(\"data/artist_metadata.pkl\"))\n",
    "save_pickle_data(album_metadata, Path(\"data/album_metadata.pkl\"))\n",
    "save_pickle_data(audio_features, Path(\"data/audio_features.pkl\"))\n",
    "save_pickle_data(raw_track_metadata, Path(\"data/raw_track_metadata.pkl\"))\n",
    "save_pickle_data(raw_artist_metadata, Path(\"data/raw_artist_metadata.pkl\"))"
   ]
  },
  {
   "cell_type": "code",
   "execution_count": null,
   "metadata": {},
   "outputs": [],
   "source": [
    "# | hide\n",
    "import nbdev\n",
    "\n",
    "nbdev.nbdev_export()"
   ]
  },
  {
   "cell_type": "code",
   "execution_count": null,
   "metadata": {},
   "outputs": [],
   "source": []
  }
 ],
 "metadata": {
  "kernelspec": {
   "display_name": "python3",
   "language": "python",
   "name": "python3"
  }
 },
 "nbformat": 4,
 "nbformat_minor": 4
}
