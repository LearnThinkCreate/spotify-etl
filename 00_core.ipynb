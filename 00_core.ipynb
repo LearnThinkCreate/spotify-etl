{
 "cells": [
  {
   "cell_type": "markdown",
   "metadata": {},
   "source": [
    "# Pull Spotify History\n",
    "\n",
    "> Consonlidate history JSON files and gather metadata from the Spotify API"
   ]
  },
  {
   "cell_type": "code",
   "execution_count": null,
   "metadata": {},
   "outputs": [],
   "source": [
    "# | default_exp core"
   ]
  },
  {
   "cell_type": "code",
   "execution_count": null,
   "metadata": {},
   "outputs": [],
   "source": [
    "# | hide\n",
    "from nbdev.showdoc import *"
   ]
  },
  {
   "cell_type": "code",
   "execution_count": null,
   "metadata": {},
   "outputs": [],
   "source": [
    "# | export\n",
    "import pandas as pd\n",
    "import re\n",
    "import time\n",
    "import requests\n",
    "import json\n",
    "import spotipy\n",
    "\n",
    "\n",
    "from pathlib import Path\n",
    "from typing import List, Dict, Optional\n",
    "from spotipy.oauth2 import SpotifyClientCredentials\n",
    "from dotenv import load_dotenv"
   ]
  },
  {
   "cell_type": "code",
   "execution_count": null,
   "metadata": {},
   "outputs": [],
   "source": [
    "pd.set_option(\"display.max_rows\", 500)\n",
    "pd.set_option(\"display.max_columns\", 500)\n",
    "pd.set_option(\"display.width\", 1000)"
   ]
  },
  {
   "cell_type": "code",
   "execution_count": null,
   "metadata": {},
   "outputs": [],
   "source": [
    "def get_spotipy_obj():\n",
    "    load_dotenv()\n",
    "    return spotipy.Spotify(auth_manager=SpotifyClientCredentials())"
   ]
  },
  {
   "cell_type": "markdown",
   "metadata": {},
   "source": [
    "## Extract Streaming History\n",
    "\n",
    "> Converting History JSON Files into Pandas DF"
   ]
  },
  {
   "cell_type": "markdown",
   "metadata": {},
   "source": [
    "Spotify provides a user's history in a series of JSON Files. Some years have multiple files. I wrote a simple function to consolidate this history into a Dict with each year as the key. See below\n"
   ]
  },
  {
   "cell_type": "code",
   "execution_count": null,
   "metadata": {},
   "outputs": [],
   "source": [
    "# | export\n",
    "# |hide\n",
    "def extract_streaming_history(\n",
    "    data_folder: Path,  # Path to the folder containing the streaming history files\n",
    ") -> Dict[str, pd.DataFrame]:  # Dictionary containing DataFrames for each year\n",
    "\n",
    "    def get_json_files(data_folder: Path) -> List[Path]:\n",
    "        \"\"\"\n",
    "        Get all the json files in the streaming_history folder.\n",
    "        \"\"\"\n",
    "\n",
    "        json_files = []\n",
    "\n",
    "        for file in data_folder.iterdir():\n",
    "            if file.suffix == \".json\":\n",
    "                json_files.append(file)\n",
    "\n",
    "        return json_files\n",
    "\n",
    "    def extract_year_from_filename(filename: str) -> str:\n",
    "        \"\"\"\n",
    "        Extract the year from a filename. The year should be a single year,\n",
    "        not a range of years. For example, 2021-2022 should be 2021.\n",
    "        \"\"\"\n",
    "\n",
    "        year = re.search(r\"\\d{4}\", filename).group()\n",
    "\n",
    "        return year\n",
    "\n",
    "    year_to_df = {}\n",
    "\n",
    "    paths = get_json_files(data_folder)\n",
    "\n",
    "    for path in paths:\n",
    "        # Extract the valid year from the filename\n",
    "        year = extract_year_from_filename(path.name)\n",
    "        if year is None:\n",
    "            continue\n",
    "\n",
    "        # Read the JSON file into a DataFrame\n",
    "        df = pd.read_json(path)\n",
    "\n",
    "        # Append the DataFrame to the existing DataFrame for the year, or create a new entry\n",
    "        if year in year_to_df:\n",
    "            year_to_df[year] = pd.concat(\n",
    "                [year_to_df[year], df], ignore_index=True)\n",
    "        else:\n",
    "            year_to_df[year] = df\n",
    "\n",
    "    return year_to_df"
   ]
  },
  {
   "cell_type": "code",
   "execution_count": null,
   "metadata": {},
   "outputs": [],
   "source": [
    "streaming_history = extract_streaming_history(Path(\"streaming_history\"))"
   ]
  },
  {
   "cell_type": "markdown",
   "metadata": {},
   "source": [
    "For this excercise I'm going to only include music from my history that I've considered 'played'. To do so I'll filter the data here instead of adding a column in my Database that differentiates between played & unplayed.\n",
    "<br>\n",
    "<br>\n",
    "In a real-life scenerio I'm more hesitant to throw away information but I didn't intend to look at unplayed tracks and it wouldn't have been wasted space on my db :)"
   ]
  },
  {
   "cell_type": "code",
   "execution_count": null,
   "metadata": {},
   "outputs": [],
   "source": [
    "# | export\n",
    "def clean_streaming_history(\n",
    "    streaming_history,  # Dictionary containing DataFrames for each year\n",
    "    # Minimum percentage of the song that must be played to be included in the analysis\n",
    "    min_percent_played: float = 0.9,\n",
    ") -> pd.DataFrame:  # Streaming History DataFrame\n",
    "    \"\"\"\n",
    "    Clean the raw streaming history data, standardize column names,\n",
    "    remove podcast data, remove songs that were not played to completion\n",
    "    \"\"\"\n",
    "    clean_streaming_history = pd.DataFrame()\n",
    "    for k in streaming_history.keys():\n",
    "        clean_streaming_history = pd.concat(\n",
    "            [clean_streaming_history, streaming_history[k]], ignore_index=True\n",
    "        )\n",
    "\n",
    "    clean_streaming_history[\"ts\"] = pd.to_datetime(\n",
    "        clean_streaming_history[\"ts\"], utc=True\n",
    "    )\n",
    "    clean_streaming_history = clean_streaming_history.sort_values(\"ts\").reset_index(\n",
    "        drop=True\n",
    "    )\n",
    "\n",
    "    # Adding Data Fields for ease of use\n",
    "    clean_streaming_history[\"month\"] = clean_streaming_history[\"ts\"].dt.month\n",
    "    clean_streaming_history[\"year\"] = clean_streaming_history[\"ts\"].dt.year\n",
    "\n",
    "    clean_streaming_history = clean_streaming_history.rename(\n",
    "        columns={\n",
    "            \"master_metadata_track_name\": \"song\",\n",
    "            \"master_metadata_album_artist_name\": \"artist\",\n",
    "            \"master_metadata_album_album_name\": \"album\",\n",
    "            \"spotify_track_uri\": \"URI\",\n",
    "        }\n",
    "    )\n",
    "\n",
    "    # Remove anything that's not a song\n",
    "    clean_streaming_history = clean_streaming_history[\n",
    "        ~clean_streaming_history.URI.isna()\n",
    "    ]\n",
    "\n",
    "    # Extract the track_id\n",
    "    clean_streaming_history[\"track_id\"] = [\n",
    "        uri.replace(\"spotify:track:\", \"\") for uri in clean_streaming_history[\"URI\"]\n",
    "    ]\n",
    "\n",
    "    # Approixmate the song duration, add to the dataframe\n",
    "    approximate_durations = (\n",
    "        clean_streaming_history.loc[\n",
    "            clean_streaming_history.reason_end == \"trackdone\", [\"track_id\", \"ms_played\"]\n",
    "        ]\n",
    "        .groupby(\"track_id\")[\"ms_played\"]\n",
    "        .agg(lambda x: x.mode()[0])\n",
    "        .reset_index()\n",
    "    )\n",
    "    approximate_durations = approximate_durations.rename(\n",
    "        columns={\"ms_played\": \"duration\"}\n",
    "    )\n",
    "    clean_streaming_history = clean_streaming_history.merge(\n",
    "        approximate_durations, on=\"track_id\", how=\"left\"\n",
    "    )\n",
    "    clean_streaming_history = clean_streaming_history[\n",
    "        ~clean_streaming_history.duration.isna()\n",
    "    ].reset_index(drop=True)\n",
    "\n",
    "    # Adding percent was played and filtering by the given value\n",
    "    clean_streaming_history[\"percent_played\"] = clean_streaming_history.apply(\n",
    "        lambda row: row[\"ms_played\"] / row[\"duration\"] if row[\"duration\"] != 0 else 0,\n",
    "        axis=1,\n",
    "    )\n",
    "\n",
    "    clean_streaming_history = clean_streaming_history[\n",
    "        clean_streaming_history.percent_played >= min_percent_played\n",
    "    ].reset_index(drop=True)\n",
    "\n",
    "    return clean_streaming_history"
   ]
  },
  {
   "cell_type": "markdown",
   "metadata": {},
   "source": [
    "I will be using a cutoff of 70% to differentiate between 'played' vs. 'unplayed' \n",
    "<br><br>\n",
    "There wasn't a scientific approach to this, I just listen to a lot of music and trusted my intiution :)"
   ]
  },
  {
   "cell_type": "code",
   "execution_count": null,
   "metadata": {},
   "outputs": [],
   "source": [
    "clean_history = clean_streaming_history(streaming_history, 0.7)\n",
    "clean_history.head(2)"
   ]
  },
  {
   "cell_type": "markdown",
   "metadata": {},
   "source": [
    "## Exploring Spotify API Data\n",
    "\n",
    "> Finding metadata that will enrich Spotify History"
   ]
  },
  {
   "cell_type": "code",
   "execution_count": null,
   "metadata": {},
   "outputs": [],
   "source": [
    "# |hide\n",
    "raw_track_metadata = {}\n",
    "raw_artist_metadata = {}\n",
    "raw_audio_features = {}\n",
    "track_metadata = {}\n",
    "artist_metadata = {}\n",
    "album_metadata = {}"
   ]
  },
  {
   "cell_type": "code",
   "execution_count": null,
   "metadata": {},
   "outputs": [],
   "source": [
    "sp = get_spotipy_obj()"
   ]
  },
  {
   "cell_type": "markdown",
   "metadata": {},
   "source": [
    "To explore the Spotify API I will be looking at metadata from 2 of my All-Time favorite songs: <br>\n",
    "- Devil in A New Dress by Kanye West (1UGD3lW3tDmgZfAVDh6w7r) <br>\n",
    "- 1 Train by A$AP Rocky (7AijU6oTPGmG64uWf63Qvc) <br>"
   ]
  },
  {
   "cell_type": "code",
   "execution_count": null,
   "metadata": {},
   "outputs": [],
   "source": [
    "track_ids = [\"7AijU6oTPGmG64uWf63Qvc\", \"1UGD3lW3tDmgZfAVDh6w7r\"]\n",
    "tracks = sp.tracks(track_ids)[\"tracks\"]"
   ]
  },
  {
   "cell_type": "code",
   "execution_count": null,
   "metadata": {},
   "outputs": [],
   "source": [
    "current_track = 0\n",
    "train_1 = tracks[current_track]\n",
    "if train_1[\"id\"] not in raw_track_metadata:\n",
    "    raw_track_metadata[train_1[\"id\"]] = train_1"
   ]
  },
  {
   "cell_type": "code",
   "execution_count": null,
   "metadata": {},
   "outputs": [],
   "source": [
    "# |echo: false\n",
    "list(raw_track_metadata[train_1[\"id\"]].keys())"
   ]
  },
  {
   "cell_type": "markdown",
   "metadata": {},
   "source": [
    "#### Album Metadata\n",
    "\n",
    "> Key Data Points: Label, Popularity, Album Tracks, Release Date\n"
   ]
  },
  {
   "cell_type": "code",
   "execution_count": null,
   "metadata": {},
   "outputs": [],
   "source": [
    "# |echo:false\n",
    "list(raw_track_metadata[train_1[\"id\"]][\"album\"].keys())"
   ]
  },
  {
   "cell_type": "markdown",
   "metadata": {},
   "source": [
    "Since I don't want all the metadata associated with the album, I'm going to extract only the metadata I want"
   ]
  },
  {
   "cell_type": "code",
   "execution_count": null,
   "metadata": {},
   "outputs": [],
   "source": [
    "def get_album_data(track, album_metadata: Dict[str, Dict]):\n",
    "    if track[\"album\"][\"id\"] in album_metadata:\n",
    "        return album_metadata[track[\"album\"][\"id\"]]\n",
    "    album = {\n",
    "        \"name\": track[\"album\"][\"name\"],\n",
    "        \"id\": track[\"album\"][\"id\"],\n",
    "        \"artist\": \";;\".join([artist[\"name\"] for artist in track[\"album\"][\"artists\"]]),\n",
    "        \"artist_id\": \";;\".join([artist[\"id\"] for artist in track[\"album\"][\"artists\"]]),\n",
    "        \"external_url\": track[\"album\"][\"external_urls\"].get(\"spotify\"),\n",
    "        \"href\": track[\"album\"][\"href\"],\n",
    "        \"images\": json.dumps(track[\"album\"][\"images\"]),\n",
    "        \"release_date\": track[\"album\"][\"release_date\"],\n",
    "        \"release_date_precision\": track[\"album\"][\"release_date_precision\"],\n",
    "        \"total_tracks\": track[\"album\"][\"total_tracks\"],\n",
    "        \"type\": track[\"album\"][\"type\"],\n",
    "        \"uri\": track[\"album\"][\"uri\"],\n",
    "    }\n",
    "    album_metadata[album[\"id\"]] = album\n",
    "    return album"
   ]
  },
  {
   "cell_type": "code",
   "execution_count": null,
   "metadata": {},
   "outputs": [],
   "source": [
    "train_1_album = get_album_data(train_1, album_metadata)\n",
    "train_1_album"
   ]
  },
  {
   "cell_type": "markdown",
   "metadata": {},
   "source": [
    "#### Genres\n",
    "\n",
    "> Standardizing Genres"
   ]
  },
  {
   "cell_type": "markdown",
   "metadata": {},
   "source": [
    "Spotify provides genres at the Artist level and these genres can be all over the place. Let's take a look at some examples"
   ]
  },
  {
   "cell_type": "markdown",
   "metadata": {},
   "source": [
    "> Jay-Z"
   ]
  },
  {
   "cell_type": "code",
   "execution_count": null,
   "metadata": {},
   "outputs": [],
   "source": [
    "jay = sp.artist(\"3nFkdlSjzX9mRTtwJOzDYB\")\n",
    "jay[\"genres\"]"
   ]
  },
  {
   "cell_type": "markdown",
   "metadata": {},
   "source": [
    "Jay-z is associated with 5 genres! When I think about Jay-Z I think East Coast Hip Hip but should that be his main genre?\n",
    "<br><br>\n",
    "\n",
    "I have 2 things 2 consider here:\n",
    "- How to bucket artist into broad groups (rappers vs. rock stars)\n",
    "- And how to bucket them into the sub-genres that I associate with them (east coast hip hop vs. west coast hip hop)\n",
    "\n",
    "<br>\n",
    "\n",
    "Let's take a look at 2 more examples:\n",
    "> Pink Floyd"
   ]
  },
  {
   "cell_type": "code",
   "execution_count": null,
   "metadata": {},
   "outputs": [],
   "source": [
    "pink = sp.artist(\"0k17h0D3J5VfsdmQ1iZtE9\")\n",
    "pink[\"genres\"]"
   ]
  },
  {
   "cell_type": "markdown",
   "metadata": {},
   "source": [
    "> Khruangbin"
   ]
  },
  {
   "cell_type": "code",
   "execution_count": null,
   "metadata": {},
   "outputs": [],
   "source": [
    "khruangbin = sp.artist(\"2mVVjNmdjXZZDvhgQWiakk\")\n",
    "khruangbin[\"genres\"]"
   ]
  },
  {
   "cell_type": "markdown",
   "metadata": {},
   "source": [
    "In the case of Pink Floyd the genres that I want to associate with them is in the Spotify Response (Rock and Classic Rock). Khruangbin is a completly different story however, I don't think they should be defined as either of their genres. In MY opinion they are should be bucketed as indie. \n",
    "<br><br>\n",
    "What I noticed when looking through the data is that certain genres--like rap--came through well in the Spotify data while others--like indie--did not. Since my goal is to reflect my spotify history as I see it I have to map the data.\n",
    "<br><br>\n",
    "In a ideal world I would have created a AI model or something of the like to map the genres. However, I encoutered this issue early in the development process while I still had many other items to build (ie. the website to display the data). Perfection is the enemy of progres, in the future I can/will create a more programattic solution to the problem but for now I just manually mapped the genres and stored the results in a csv :)"
   ]
  },
  {
   "cell_type": "code",
   "execution_count": null,
   "metadata": {},
   "outputs": [],
   "source": [
    "genre_mapping = pd.read_csv(\"genre_matching.csv\")"
   ]
  },
  {
   "cell_type": "code",
   "execution_count": null,
   "metadata": {},
   "outputs": [],
   "source": [
    "# |hide\n",
    "genre_mapping[\"genres\"] = genre_mapping[\"genres\"].str.lower().str.strip()\n",
    "genre_mapping[\"main_genre\"] = genre_mapping[\"main_genre\"].str.lower().str.strip()\n",
    "genre_mapping[\"secondary_genre\"] = (\n",
    "    genre_mapping[\"secondary_genre\"].str.lower().str.strip()\n",
    ")"
   ]
  },
  {
   "cell_type": "markdown",
   "metadata": {},
   "source": [
    "Since I didn't want to go through all the genres (there are ≈ 1800) I went through top 300 or so and wrote a regex to match others based on certain keywords"
   ]
  },
  {
   "cell_type": "code",
   "execution_count": null,
   "metadata": {},
   "outputs": [],
   "source": [
    "def consolidate_main_genre(genre: str):\n",
    "    # If Genre Contains the full string rap or the full string hip hop, return rap\n",
    "    if re.search(r\"\\brap\\b\", genre) or re.search(r\"\\bhip hop\\b\", genre):\n",
    "        return \"rap\"\n",
    "    # If Genre Contains the full string rock, return rock\n",
    "    elif re.search(r\"\\brock\\b\", genre):\n",
    "        return \"rock\"\n",
    "    # If Genre Contains the full string soul, return soul\n",
    "    elif re.search(r\"\\bsoul\\b\", genre):\n",
    "        return \"soul\"\n",
    "    # If Genre Contains the full string pop, return pop\n",
    "    elif re.search(r\"\\bpop\\b\", genre):\n",
    "        return \"pop\"\n",
    "    # If Genre Contains the full string country, return country\n",
    "    elif re.search(r\"\\bcountry\\b\", genre):\n",
    "        return \"country\"\n",
    "    # If Genre Contains the full string jazz, instrumental, blues, classical, lo-fi, lofi, ambient, return the focus\n",
    "    elif re.search(\n",
    "        r\"\\bjazz\\b|\\binstrumental\\b|\\bblues\\b|\\bclassical\\b|\\blo-fi\\b|\\blofi\\b|\\bambient\\b\",\n",
    "        genre,\n",
    "    ):\n",
    "        return \"focus\""
   ]
  },
  {
   "cell_type": "code",
   "execution_count": null,
   "metadata": {},
   "outputs": [],
   "source": [
    "possible_genres = genre_mapping[genre_mapping.genres.isin(jay[\"genres\"])]\n",
    "possible_genres"
   ]
  },
  {
   "cell_type": "markdown",
   "metadata": {},
   "source": [
    "In addition to mapping genres to a respective 'main_genre' I also added / neglected certain genres as a proper 'secondary_genre' depending on how descriptive I found them. \n",
    "<br><br>\n",
    "Putting it all together"
   ]
  },
  {
   "cell_type": "code",
   "execution_count": null,
   "metadata": {},
   "outputs": [],
   "source": [
    "def consolidate_genres(genres: List[str]) -> Dict:\n",
    "    possible_genres = genre_mapping[genre_mapping.genres.isin(genres)]\n",
    "    main_genre = \"\"\n",
    "    secondary_genre = \"\"\n",
    "    if possible_genres.shape[0] > 0:\n",
    "        if possible_genres[\"main_genre\"].dropna().shape[0] > 0:\n",
    "            main_genre = possible_genres[\"main_genre\"].dropna().iloc[0]\n",
    "        else:\n",
    "            main_genre = consolidate_main_genre(\n",
    "                possible_genres[\"genres\"].dropna().iloc[0]\n",
    "            )\n",
    "\n",
    "        if possible_genres[\"secondary_genre\"].dropna().shape[0] > 0:\n",
    "            secondary_genre = possible_genres[\"secondary_genre\"].dropna().iloc[0]\n",
    "    return {\n",
    "        \"main_genre\": main_genre,\n",
    "        \"secondary_genre\": secondary_genre,\n",
    "        \"genres\": \";;\".join(genres),\n",
    "    }"
   ]
  },
  {
   "cell_type": "code",
   "execution_count": null,
   "metadata": {},
   "outputs": [],
   "source": [
    "consolidate_genres(jay[\"genres\"])"
   ]
  },
  {
   "cell_type": "markdown",
   "metadata": {},
   "source": [
    "While this is a good start, there's stil one scenerio that isn't being accounted for:\n",
    "- What if the artist API request doens't return ANY genres\n",
    "\n",
    "<br>\n",
    "Let's take a look at Santa Esmaralda"
   ]
  },
  {
   "cell_type": "code",
   "execution_count": null,
   "metadata": {},
   "outputs": [],
   "source": [
    "santa = sp.artist(\"0iGmfKLgK5eSMgHp8YgLnS\")\n",
    "santa[\"genres\"]"
   ]
  },
  {
   "cell_type": "markdown",
   "metadata": {},
   "source": [
    "Santa doesn't have any genres!!! \n",
    "<br><br>\n",
    "The solution here is simple. While Santa doesn't have any genres HIMSELF, spotify does provide a endpoint for RELATED artist. I can find out the genres of his related artist and use this as a way to approximate Santa's genre"
   ]
  },
  {
   "cell_type": "code",
   "execution_count": null,
   "metadata": {},
   "outputs": [],
   "source": [
    "if not santa.get(\"genres\"):\n",
    "    related_artists = sp.artist_related_artists(\"0iGmfKLgK5eSMgHp8YgLnS\")\n",
    "    related_genres = {}\n",
    "    for art in related_artists[\"artists\"]:\n",
    "        if art.get(\"genres\"):\n",
    "            for genre in art[\"genres\"]:\n",
    "                if genre not in related_genres:\n",
    "                    related_genres[genre] = 0\n",
    "                related_genres[genre] += 1\n",
    "related_genres"
   ]
  },
  {
   "cell_type": "markdown",
   "metadata": {},
   "source": [
    "Consolidating the genres for Santa"
   ]
  },
  {
   "cell_type": "code",
   "execution_count": null,
   "metadata": {},
   "outputs": [],
   "source": [
    "related_genres_list = list(related_genres.items())\n",
    "# Sort related genres by count\n",
    "related_genres_list.sort(key=lambda x: x[1], reverse=True)\n",
    "related_genres_list = [x[0] for x in related_genres_list]\n",
    "consolidate_genres(related_genres_list[:5])"
   ]
  },
  {
   "cell_type": "markdown",
   "metadata": {},
   "source": [
    "> Proceduralizing"
   ]
  },
  {
   "cell_type": "code",
   "execution_count": null,
   "metadata": {},
   "outputs": [],
   "source": [
    "def get_artist_genres(artist) -> Dict[str, int]:\n",
    "    if artist.get(\"genres\"):\n",
    "        consolidated_genres = consolidate_genres(artist[\"genres\"])\n",
    "        return {\n",
    "            \"genres\": consolidated_genres[\"genres\"],\n",
    "            \"main_genre\": (\n",
    "                consolidated_genres[\"main_genre\"]\n",
    "                if consolidated_genres[\"main_genre\"]\n",
    "                else consolidated_genres[\"genres\"][-1]\n",
    "            ),\n",
    "            \"secondary_genre\": (\n",
    "                consolidated_genres[\"secondary_genre\"]\n",
    "                if consolidated_genres[\"secondary_genre\"]\n",
    "                else consolidated_genres[\"genres\"].split(\";;\")[0]\n",
    "            ),\n",
    "        }\n",
    "    else:\n",
    "        sp = get_spotipy_obj()\n",
    "        related_artists = sp.artist_related_artists(artist[\"id\"])\n",
    "        related_genres = {}\n",
    "        for art in related_artists[\"artists\"]:\n",
    "            if art.get(\"genres\"):\n",
    "                for genre in art[\"genres\"]:\n",
    "                    if genre not in related_genres:\n",
    "                        related_genres[genre] = 0\n",
    "                    related_genres[genre] += 1\n",
    "        related_genres_list = list(related_genres.items())\n",
    "        related_genres_list.sort(key=lambda x: x[1], reverse=True)\n",
    "        related_genres_list = [x[0] for x in related_genres_list]\n",
    "        return consolidate_genres(related_genres_list[:5])"
   ]
  },
  {
   "cell_type": "code",
   "execution_count": null,
   "metadata": {},
   "outputs": [],
   "source": [
    "get_artist_genres(jay)"
   ]
  },
  {
   "cell_type": "markdown",
   "metadata": {},
   "source": [
    "#### Artist"
   ]
  },
  {
   "cell_type": "code",
   "execution_count": null,
   "metadata": {},
   "outputs": [],
   "source": [
    "# |echo: false\n",
    "list(jay.keys())"
   ]
  },
  {
   "cell_type": "code",
   "execution_count": null,
   "metadata": {},
   "outputs": [],
   "source": [
    "def get_artist_data(artist_id: str, raw_artist_metadata: Dict = {}) -> Dict:\n",
    "    sp = get_spotipy_obj()\n",
    "    artist = sp.artist(artist_id)\n",
    "    artist_genres = get_artist_genres(artist)\n",
    "    if artist[\"id\"] not in raw_artist_metadata:\n",
    "        raw_artist_metadata[artist[\"id\"]] = artist\n",
    "    return {\n",
    "        \"id\": artist[\"id\"],\n",
    "        \"name\": artist[\"name\"],\n",
    "        \"external_url\": artist[\"external_urls\"].get(\"spotify\"),\n",
    "        \"followers\": artist[\"followers\"][\"total\"],\n",
    "        \"genres\": artist_genres[\"genres\"],\n",
    "        \"href\": artist[\"href\"],\n",
    "        \"images\": json.dumps(artist[\"images\"]),\n",
    "        \"popularity\": artist[\"popularity\"],\n",
    "        \"type\": artist[\"type\"],\n",
    "        \"uri\": artist[\"uri\"],\n",
    "        \"main_genre\": artist_genres[\"main_genre\"],\n",
    "        \"secondary_genre\": artist_genres[\"secondary_genre\"],\n",
    "    }"
   ]
  },
  {
   "cell_type": "markdown",
   "metadata": {},
   "source": [
    "Getting Rocky's Record"
   ]
  },
  {
   "cell_type": "code",
   "execution_count": null,
   "metadata": {},
   "outputs": [],
   "source": [
    "rocky_id = \"13ubrt8QOOCPljQ2FL1Kca\""
   ]
  },
  {
   "cell_type": "code",
   "execution_count": null,
   "metadata": {},
   "outputs": [],
   "source": [
    "rocky_record = get_artist_data(rocky_id)\n",
    "rocky_record"
   ]
  },
  {
   "cell_type": "code",
   "execution_count": null,
   "metadata": {},
   "outputs": [],
   "source": [
    "# | hide\n",
    "import nbdev\n",
    "\n",
    "nbdev.nbdev_export()"
   ]
  },
  {
   "cell_type": "code",
   "execution_count": null,
   "metadata": {},
   "outputs": [],
   "source": []
  }
 ],
 "metadata": {
  "kernelspec": {
   "display_name": "python3",
   "language": "python",
   "name": "python3"
  }
 },
 "nbformat": 4,
 "nbformat_minor": 4
}
